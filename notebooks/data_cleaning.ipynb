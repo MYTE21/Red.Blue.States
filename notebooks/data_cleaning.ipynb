{
 "cells": [
  {
   "metadata": {},
   "cell_type": "markdown",
   "source": [
    "# 🗑️ Data Cleaning\n",
    "\n",
    "[![Open in Colab](https://colab.research.google.com/assets/colab-badge.svg)](<https://colab.research.google.com/>)\n",
    "\n",
    "Remove null values and all the information other than the important ones."
   ],
   "id": "38600bc77b201934"
  },
  {
   "metadata": {},
   "cell_type": "markdown",
   "source": [
    "# 1. ⚙️ Imports\n",
    "\n",
    "Import the necessary libraries and packages."
   ],
   "id": "5bd7ac4795776889"
  },
  {
   "cell_type": "code",
   "id": "initial_id",
   "metadata": {
    "collapsed": true,
    "ExecuteTime": {
     "end_time": "2025-06-01T19:01:48.016673Z",
     "start_time": "2025-06-01T19:01:47.734898Z"
    }
   },
   "source": [
    "import re\n",
    "import pandas as pd\n",
    "\n",
    "# Local Libraries\n",
    "from data import data"
   ],
   "outputs": [],
   "execution_count": 1
  },
  {
   "metadata": {},
   "cell_type": "markdown",
   "source": [
    "# 2. 📁 Data\n",
    "\n",
    "Get the 🇺🇸 US Presidential Elections by States data."
   ],
   "id": "18e095f095e448e6"
  },
  {
   "metadata": {
    "ExecuteTime": {
     "end_time": "2025-06-01T19:01:48.088244Z",
     "start_time": "2025-06-01T19:01:48.086186Z"
    }
   },
   "cell_type": "code",
   "source": "states_dataframe_path = data.get_dataset_path(\"rbs\", \"raw\", \"us_presidential_elections_by_states\", 1)",
   "id": "7d4921e908d46e21",
   "outputs": [],
   "execution_count": 2
  },
  {
   "metadata": {
    "ExecuteTime": {
     "end_time": "2025-06-01T19:01:48.115329Z",
     "start_time": "2025-06-01T19:01:48.097020Z"
    }
   },
   "cell_type": "code",
   "source": [
    "states_dataframe = pd.read_csv(states_dataframe_path)\n",
    "\n",
    "print(\"The first five records of the dataframe: \\n\")\n",
    "states_dataframe.head()"
   ],
   "id": "7d58e6b2e637a9bf",
   "outputs": [
    {
     "name": "stdout",
     "output_type": "stream",
     "text": [
      "The first five records of the dataframe: \n",
      "\n"
     ]
    },
    {
     "data": {
      "text/plain": [
       "                    Year   1972    1976    1980    1984  1988     1992  \\\n",
       "0  National popular vote  Nixon  Carter  Reagan  Reagan  Bush  Clinton   \n",
       "1                Alabama  Nixon  Carter  Reagan  Reagan  Bush     Bush   \n",
       "2                 Alaska  Nixon    Ford  Reagan  Reagan  Bush     Bush   \n",
       "3                Arizona  Nixon    Ford  Reagan  Reagan  Bush     Bush   \n",
       "4               Arkansas  Nixon  Carter  Reagan  Reagan  Bush  Clinton   \n",
       "\n",
       "      1996  2000  2004    2008    2012     2016   2020   2024  \n",
       "0  Clinton  Gore  Bush   Obama   Obama  Clinton  Biden  Trump  \n",
       "1     Dole  Bush  Bush  McCain  Romney    Trump  Trump  Trump  \n",
       "2     Dole  Bush  Bush  McCain  Romney    Trump  Trump  Trump  \n",
       "3  Clinton  Bush  Bush  McCain  Romney    Trump  Biden  Trump  \n",
       "4  Clinton  Bush  Bush  McCain  Romney    Trump  Trump  Trump  "
      ],
      "text/html": [
       "<div>\n",
       "<style scoped>\n",
       "    .dataframe tbody tr th:only-of-type {\n",
       "        vertical-align: middle;\n",
       "    }\n",
       "\n",
       "    .dataframe tbody tr th {\n",
       "        vertical-align: top;\n",
       "    }\n",
       "\n",
       "    .dataframe thead th {\n",
       "        text-align: right;\n",
       "    }\n",
       "</style>\n",
       "<table border=\"1\" class=\"dataframe\">\n",
       "  <thead>\n",
       "    <tr style=\"text-align: right;\">\n",
       "      <th></th>\n",
       "      <th>Year</th>\n",
       "      <th>1972</th>\n",
       "      <th>1976</th>\n",
       "      <th>1980</th>\n",
       "      <th>1984</th>\n",
       "      <th>1988</th>\n",
       "      <th>1992</th>\n",
       "      <th>1996</th>\n",
       "      <th>2000</th>\n",
       "      <th>2004</th>\n",
       "      <th>2008</th>\n",
       "      <th>2012</th>\n",
       "      <th>2016</th>\n",
       "      <th>2020</th>\n",
       "      <th>2024</th>\n",
       "    </tr>\n",
       "  </thead>\n",
       "  <tbody>\n",
       "    <tr>\n",
       "      <th>0</th>\n",
       "      <td>National popular vote</td>\n",
       "      <td>Nixon</td>\n",
       "      <td>Carter</td>\n",
       "      <td>Reagan</td>\n",
       "      <td>Reagan</td>\n",
       "      <td>Bush</td>\n",
       "      <td>Clinton</td>\n",
       "      <td>Clinton</td>\n",
       "      <td>Gore</td>\n",
       "      <td>Bush</td>\n",
       "      <td>Obama</td>\n",
       "      <td>Obama</td>\n",
       "      <td>Clinton</td>\n",
       "      <td>Biden</td>\n",
       "      <td>Trump</td>\n",
       "    </tr>\n",
       "    <tr>\n",
       "      <th>1</th>\n",
       "      <td>Alabama</td>\n",
       "      <td>Nixon</td>\n",
       "      <td>Carter</td>\n",
       "      <td>Reagan</td>\n",
       "      <td>Reagan</td>\n",
       "      <td>Bush</td>\n",
       "      <td>Bush</td>\n",
       "      <td>Dole</td>\n",
       "      <td>Bush</td>\n",
       "      <td>Bush</td>\n",
       "      <td>McCain</td>\n",
       "      <td>Romney</td>\n",
       "      <td>Trump</td>\n",
       "      <td>Trump</td>\n",
       "      <td>Trump</td>\n",
       "    </tr>\n",
       "    <tr>\n",
       "      <th>2</th>\n",
       "      <td>Alaska</td>\n",
       "      <td>Nixon</td>\n",
       "      <td>Ford</td>\n",
       "      <td>Reagan</td>\n",
       "      <td>Reagan</td>\n",
       "      <td>Bush</td>\n",
       "      <td>Bush</td>\n",
       "      <td>Dole</td>\n",
       "      <td>Bush</td>\n",
       "      <td>Bush</td>\n",
       "      <td>McCain</td>\n",
       "      <td>Romney</td>\n",
       "      <td>Trump</td>\n",
       "      <td>Trump</td>\n",
       "      <td>Trump</td>\n",
       "    </tr>\n",
       "    <tr>\n",
       "      <th>3</th>\n",
       "      <td>Arizona</td>\n",
       "      <td>Nixon</td>\n",
       "      <td>Ford</td>\n",
       "      <td>Reagan</td>\n",
       "      <td>Reagan</td>\n",
       "      <td>Bush</td>\n",
       "      <td>Bush</td>\n",
       "      <td>Clinton</td>\n",
       "      <td>Bush</td>\n",
       "      <td>Bush</td>\n",
       "      <td>McCain</td>\n",
       "      <td>Romney</td>\n",
       "      <td>Trump</td>\n",
       "      <td>Biden</td>\n",
       "      <td>Trump</td>\n",
       "    </tr>\n",
       "    <tr>\n",
       "      <th>4</th>\n",
       "      <td>Arkansas</td>\n",
       "      <td>Nixon</td>\n",
       "      <td>Carter</td>\n",
       "      <td>Reagan</td>\n",
       "      <td>Reagan</td>\n",
       "      <td>Bush</td>\n",
       "      <td>Clinton</td>\n",
       "      <td>Clinton</td>\n",
       "      <td>Bush</td>\n",
       "      <td>Bush</td>\n",
       "      <td>McCain</td>\n",
       "      <td>Romney</td>\n",
       "      <td>Trump</td>\n",
       "      <td>Trump</td>\n",
       "      <td>Trump</td>\n",
       "    </tr>\n",
       "  </tbody>\n",
       "</table>\n",
       "</div>"
      ]
     },
     "execution_count": 3,
     "metadata": {},
     "output_type": "execute_result"
    }
   ],
   "execution_count": 3
  },
  {
   "metadata": {},
   "cell_type": "markdown",
   "source": "# 3. 🧹 Cleaning Messy Data",
   "id": "1b25363fe05e8b86"
  },
  {
   "metadata": {},
   "cell_type": "markdown",
   "source": "⚓️ Let's check the count of null values in every column. ⤵️",
   "id": "fe08dd5723d8fa0e"
  },
  {
   "metadata": {},
   "cell_type": "markdown",
   "source": [
    "## 3.1. 🪹 Drop Null Values\n",
    "\n",
    "Drop all the rows with null values, as those won't add any value according to our end goal."
   ],
   "id": "d988d7c55f8af676"
  },
  {
   "metadata": {
    "ExecuteTime": {
     "end_time": "2025-06-01T19:01:48.146917Z",
     "start_time": "2025-06-01T19:01:48.142434Z"
    }
   },
   "cell_type": "code",
   "source": [
    "state_null_count = states_dataframe.isnull().sum().reset_index()\n",
    "state_null_count.columns = [\"Column\", \"Null Count\"]\n",
    "\n",
    "print(\"Count of null values in each column: \\n\")\n",
    "state_null_count"
   ],
   "id": "dd29c9654e472def",
   "outputs": [
    {
     "name": "stdout",
     "output_type": "stream",
     "text": [
      "Count of null values in each column: \n",
      "\n"
     ]
    },
    {
     "data": {
      "text/plain": [
       "   Column  Null Count\n",
       "0    Year           0\n",
       "1    1972           1\n",
       "2    1976           1\n",
       "3    1980           1\n",
       "4    1984           2\n",
       "5    1988           3\n",
       "6    1992           3\n",
       "7    1996           3\n",
       "8    2000           3\n",
       "9    2004           3\n",
       "10   2008           3\n",
       "11   2012           3\n",
       "12   2016           3\n",
       "13   2020           3\n",
       "14   2024           3"
      ],
      "text/html": [
       "<div>\n",
       "<style scoped>\n",
       "    .dataframe tbody tr th:only-of-type {\n",
       "        vertical-align: middle;\n",
       "    }\n",
       "\n",
       "    .dataframe tbody tr th {\n",
       "        vertical-align: top;\n",
       "    }\n",
       "\n",
       "    .dataframe thead th {\n",
       "        text-align: right;\n",
       "    }\n",
       "</style>\n",
       "<table border=\"1\" class=\"dataframe\">\n",
       "  <thead>\n",
       "    <tr style=\"text-align: right;\">\n",
       "      <th></th>\n",
       "      <th>Column</th>\n",
       "      <th>Null Count</th>\n",
       "    </tr>\n",
       "  </thead>\n",
       "  <tbody>\n",
       "    <tr>\n",
       "      <th>0</th>\n",
       "      <td>Year</td>\n",
       "      <td>0</td>\n",
       "    </tr>\n",
       "    <tr>\n",
       "      <th>1</th>\n",
       "      <td>1972</td>\n",
       "      <td>1</td>\n",
       "    </tr>\n",
       "    <tr>\n",
       "      <th>2</th>\n",
       "      <td>1976</td>\n",
       "      <td>1</td>\n",
       "    </tr>\n",
       "    <tr>\n",
       "      <th>3</th>\n",
       "      <td>1980</td>\n",
       "      <td>1</td>\n",
       "    </tr>\n",
       "    <tr>\n",
       "      <th>4</th>\n",
       "      <td>1984</td>\n",
       "      <td>2</td>\n",
       "    </tr>\n",
       "    <tr>\n",
       "      <th>5</th>\n",
       "      <td>1988</td>\n",
       "      <td>3</td>\n",
       "    </tr>\n",
       "    <tr>\n",
       "      <th>6</th>\n",
       "      <td>1992</td>\n",
       "      <td>3</td>\n",
       "    </tr>\n",
       "    <tr>\n",
       "      <th>7</th>\n",
       "      <td>1996</td>\n",
       "      <td>3</td>\n",
       "    </tr>\n",
       "    <tr>\n",
       "      <th>8</th>\n",
       "      <td>2000</td>\n",
       "      <td>3</td>\n",
       "    </tr>\n",
       "    <tr>\n",
       "      <th>9</th>\n",
       "      <td>2004</td>\n",
       "      <td>3</td>\n",
       "    </tr>\n",
       "    <tr>\n",
       "      <th>10</th>\n",
       "      <td>2008</td>\n",
       "      <td>3</td>\n",
       "    </tr>\n",
       "    <tr>\n",
       "      <th>11</th>\n",
       "      <td>2012</td>\n",
       "      <td>3</td>\n",
       "    </tr>\n",
       "    <tr>\n",
       "      <th>12</th>\n",
       "      <td>2016</td>\n",
       "      <td>3</td>\n",
       "    </tr>\n",
       "    <tr>\n",
       "      <th>13</th>\n",
       "      <td>2020</td>\n",
       "      <td>3</td>\n",
       "    </tr>\n",
       "    <tr>\n",
       "      <th>14</th>\n",
       "      <td>2024</td>\n",
       "      <td>3</td>\n",
       "    </tr>\n",
       "  </tbody>\n",
       "</table>\n",
       "</div>"
      ]
     },
     "execution_count": 4,
     "metadata": {},
     "output_type": "execute_result"
    }
   ],
   "execution_count": 4
  },
  {
   "metadata": {
    "ExecuteTime": {
     "end_time": "2025-06-01T19:01:48.213069Z",
     "start_time": "2025-06-01T19:01:48.210974Z"
    }
   },
   "cell_type": "code",
   "source": "print(\"Shape of the state dataframe: \", states_dataframe.shape)",
   "id": "97925edd15683d6a",
   "outputs": [
    {
     "name": "stdout",
     "output_type": "stream",
     "text": [
      "Shape of the state dataframe:  (55, 15)\n"
     ]
    }
   ],
   "execution_count": 5
  },
  {
   "metadata": {},
   "cell_type": "markdown",
   "source": "⚓️ Now, drop all the rows that have null data, as those don't contain the primary candidates of the winners. ⤵️",
   "id": "76ebb78fb26a4a42"
  },
  {
   "metadata": {
    "ExecuteTime": {
     "end_time": "2025-06-01T19:01:48.284412Z",
     "start_time": "2025-06-01T19:01:48.281971Z"
    }
   },
   "cell_type": "code",
   "source": "states_dataframe.dropna(inplace = True)",
   "id": "3f478489d4e0bf39",
   "outputs": [],
   "execution_count": 6
  },
  {
   "metadata": {
    "ExecuteTime": {
     "end_time": "2025-06-01T19:01:48.314432Z",
     "start_time": "2025-06-01T19:01:48.312225Z"
    }
   },
   "cell_type": "code",
   "source": "print(\"Shape of the state dataframe after dropping all the rows containing null values: \", states_dataframe.shape)",
   "id": "88632f87a37246d3",
   "outputs": [
    {
     "name": "stdout",
     "output_type": "stream",
     "text": [
      "Shape of the state dataframe after dropping all the rows containing null values:  (52, 15)\n"
     ]
    }
   ],
   "execution_count": 7
  },
  {
   "metadata": {},
   "cell_type": "markdown",
   "source": [
    "## 3.2. 🥡 Remove Unnecessary Data\n",
    "\n",
    "Remove the unnecessary part of each cell of the dataframe, as those don't contain information helpful for achieving our goal."
   ],
   "id": "1097ada3e372076"
  },
  {
   "metadata": {
    "ExecuteTime": {
     "end_time": "2025-06-01T19:01:48.334892Z",
     "start_time": "2025-06-01T19:01:48.332756Z"
    }
   },
   "cell_type": "code",
   "source": "print(\"Let's check the value of the 21st row and 7th column: \", states_dataframe.iloc[20, 6])",
   "id": "b297a7a8dc66eaed",
   "outputs": [
    {
     "name": "stdout",
     "output_type": "stream",
     "text": [
      "Let's check the value of the 21st row and 7th column:  Clinton (at-large and ME-01)\n"
     ]
    }
   ],
   "execution_count": 8
  },
  {
   "metadata": {},
   "cell_type": "markdown",
   "source": [
    "⚓️ The `(at-large and ME-01)` part of `Clinton (at-large and ME-01)` is unnecessary for our end goal.\n",
    "As we have some data like this, we have to remove those from the strings. ⤵️"
   ],
   "id": "864c34d18f8ff231"
  },
  {
   "metadata": {},
   "cell_type": "markdown",
   "source": "⚓️ Function for removing the unnecessary parts of the strings.",
   "id": "c0859dc3edf029d1"
  },
  {
   "metadata": {
    "ExecuteTime": {
     "end_time": "2025-06-01T19:01:48.346163Z",
     "start_time": "2025-06-01T19:01:48.344404Z"
    }
   },
   "cell_type": "code",
   "source": [
    "def remove_unnecessary_strings(string: str) -> str:\n",
    "    \"\"\"\n",
    "    Removes any substrings enclosed in parentheses (including the parentheses themselves).\n",
    "    Parameters:⤵️\n",
    "        - string (str): The input string potentially containing text in parentheses.\n",
    "    Returns:\n",
    "        - str: A cleaned string with all substrings in parentheses removed.\n",
    "    \"\"\"\n",
    "    return re.sub(r\"\\s*\\([^)]*\\)\", \"\", string)"
   ],
   "id": "29836fc33561414b",
   "outputs": [],
   "execution_count": 9
  },
  {
   "metadata": {},
   "cell_type": "markdown",
   "source": "⚓️ Remove all the unnecessary parts of the strings and create a new dataframe. ⤵️",
   "id": "ebae225094df5dc3"
  },
  {
   "metadata": {
    "ExecuteTime": {
     "end_time": "2025-06-01T19:01:48.363309Z",
     "start_time": "2025-06-01T19:01:48.360508Z"
    }
   },
   "cell_type": "code",
   "source": "clean_states_dataframe = states_dataframe.map(remove_unnecessary_strings)",
   "id": "4b40497698e89367",
   "outputs": [],
   "execution_count": 10
  },
  {
   "metadata": {
    "ExecuteTime": {
     "end_time": "2025-06-01T19:01:48.457849Z",
     "start_time": "2025-06-01T19:01:48.455948Z"
    }
   },
   "cell_type": "code",
   "source": "print(\"The value of the 21st row and 7th column (after removing unnecessary parts): \", clean_states_dataframe.iloc[20, 6])",
   "id": "9a930cf111ebae6e",
   "outputs": [
    {
     "name": "stdout",
     "output_type": "stream",
     "text": [
      "The value of the 21st row and 7th column (after removing unnecessary parts):  Clinton\n"
     ]
    }
   ],
   "execution_count": 11
  },
  {
   "metadata": {},
   "cell_type": "markdown",
   "source": "# 4. 💣 Export the DataFrame",
   "id": "b7e97f747dd3e60f"
  },
  {
   "metadata": {
    "ExecuteTime": {
     "end_time": "2025-06-01T19:01:48.477836Z",
     "start_time": "2025-06-01T19:01:48.471255Z"
    }
   },
   "cell_type": "code",
   "source": [
    "data_path = data.get_dataset_path(\"rbs\", \"processed\", \"clean_us_presidential_elections_by_states\", 1)\n",
    "\n",
    "try:\n",
    "    clean_states_dataframe.to_csv(data_path, index = False)\n",
    "    print(\"🎉 Saved data to CSV at: \", data_path)\n",
    "except Exception as e:\n",
    "    print(f\"❌ Error: {e}\")"
   ],
   "id": "f8b1d68b3212562e",
   "outputs": [
    {
     "name": "stdout",
     "output_type": "stream",
     "text": [
      "🎉 Saved data to CSV at:  /../../../../../../Volumes/Workstation/Datasets/Red.Blue.States/raw/clean_us_presidential_elections_by_states.csv\n"
     ]
    }
   ],
   "execution_count": 12
  },
  {
   "metadata": {},
   "cell_type": "markdown",
   "source": "🎉 Congratulations! The `Data Cleaning` is complete!",
   "id": "d9d151d25d6abd7a"
  }
 ],
 "metadata": {
  "kernelspec": {
   "display_name": "Python 3",
   "language": "python",
   "name": "python3"
  },
  "language_info": {
   "codemirror_mode": {
    "name": "ipython",
    "version": 2
   },
   "file_extension": ".py",
   "mimetype": "text/x-python",
   "name": "python",
   "nbconvert_exporter": "python",
   "pygments_lexer": "ipython2",
   "version": "2.7.6"
  }
 },
 "nbformat": 4,
 "nbformat_minor": 5
}
