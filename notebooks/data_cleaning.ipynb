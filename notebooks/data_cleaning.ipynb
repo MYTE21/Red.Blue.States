{
 "cells": [
  {
   "metadata": {},
   "cell_type": "markdown",
   "source": [
    "# 🗑️ Data Cleaning\n",
    "\n",
    "[![Open in Colab](https://colab.research.google.com/assets/colab-badge.svg)](<https://colab.research.google.com/>)\n",
    "\n",
    "Remove null values and all the information other than the important ones."
   ],
   "id": "38600bc77b201934"
  },
  {
   "metadata": {},
   "cell_type": "markdown",
   "source": [
    "# 1. ⚙️ Imports\n",
    "\n",
    "Import the necessary libraries and packages."
   ],
   "id": "5bd7ac4795776889"
  },
  {
   "cell_type": "code",
   "id": "initial_id",
   "metadata": {
    "collapsed": true,
    "ExecuteTime": {
     "end_time": "2025-06-03T19:50:20.473406Z",
     "start_time": "2025-06-03T19:50:20.214591Z"
    }
   },
   "source": [
    "import re\n",
    "import pandas as pd\n",
    "\n",
    "# Local Libraries\n",
    "from data import data"
   ],
   "outputs": [],
   "execution_count": 1
  },
  {
   "metadata": {},
   "cell_type": "markdown",
   "source": [
    "# 2. 📁 Data\n",
    "\n",
    "Get the 🇺🇸 US Presidential Elections by States data."
   ],
   "id": "18e095f095e448e6"
  },
  {
   "metadata": {
    "ExecuteTime": {
     "end_time": "2025-06-03T19:50:20.538010Z",
     "start_time": "2025-06-03T19:50:20.535924Z"
    }
   },
   "cell_type": "code",
   "source": [
    "states_dataframe_path = data.get_dataset_path(\"rbs\", \"raw\", \"us_presidential_elections_by_states\", 1)\n",
    "candidate_dataframe_path = data.get_dataset_path(\"rbs\", \"raw\", \"us_presidential_elections_candidate\", 1)"
   ],
   "id": "7d4921e908d46e21",
   "outputs": [],
   "execution_count": 2
  },
  {
   "metadata": {
    "ExecuteTime": {
     "end_time": "2025-06-03T19:50:20.562355Z",
     "start_time": "2025-06-03T19:50:20.545462Z"
    }
   },
   "cell_type": "code",
   "source": [
    "states_dataframe = pd.read_csv(states_dataframe_path)\n",
    "\n",
    "print(\"The first five records of the states dataframe: \\n\")\n",
    "states_dataframe.head()"
   ],
   "id": "7d58e6b2e637a9bf",
   "outputs": [
    {
     "name": "stdout",
     "output_type": "stream",
     "text": [
      "The first five records of the states dataframe: \n",
      "\n"
     ]
    },
    {
     "data": {
      "text/plain": [
       "                    Year   1972    1976    1980    1984  1988     1992  \\\n",
       "0  National popular vote  Nixon  Carter  Reagan  Reagan  Bush  Clinton   \n",
       "1                Alabama  Nixon  Carter  Reagan  Reagan  Bush     Bush   \n",
       "2                 Alaska  Nixon    Ford  Reagan  Reagan  Bush     Bush   \n",
       "3                Arizona  Nixon    Ford  Reagan  Reagan  Bush     Bush   \n",
       "4               Arkansas  Nixon  Carter  Reagan  Reagan  Bush  Clinton   \n",
       "\n",
       "      1996  2000  2004    2008    2012     2016   2020   2024  \n",
       "0  Clinton  Gore  Bush   Obama   Obama  Clinton  Biden  Trump  \n",
       "1     Dole  Bush  Bush  McCain  Romney    Trump  Trump  Trump  \n",
       "2     Dole  Bush  Bush  McCain  Romney    Trump  Trump  Trump  \n",
       "3  Clinton  Bush  Bush  McCain  Romney    Trump  Biden  Trump  \n",
       "4  Clinton  Bush  Bush  McCain  Romney    Trump  Trump  Trump  "
      ],
      "text/html": [
       "<div>\n",
       "<style scoped>\n",
       "    .dataframe tbody tr th:only-of-type {\n",
       "        vertical-align: middle;\n",
       "    }\n",
       "\n",
       "    .dataframe tbody tr th {\n",
       "        vertical-align: top;\n",
       "    }\n",
       "\n",
       "    .dataframe thead th {\n",
       "        text-align: right;\n",
       "    }\n",
       "</style>\n",
       "<table border=\"1\" class=\"dataframe\">\n",
       "  <thead>\n",
       "    <tr style=\"text-align: right;\">\n",
       "      <th></th>\n",
       "      <th>Year</th>\n",
       "      <th>1972</th>\n",
       "      <th>1976</th>\n",
       "      <th>1980</th>\n",
       "      <th>1984</th>\n",
       "      <th>1988</th>\n",
       "      <th>1992</th>\n",
       "      <th>1996</th>\n",
       "      <th>2000</th>\n",
       "      <th>2004</th>\n",
       "      <th>2008</th>\n",
       "      <th>2012</th>\n",
       "      <th>2016</th>\n",
       "      <th>2020</th>\n",
       "      <th>2024</th>\n",
       "    </tr>\n",
       "  </thead>\n",
       "  <tbody>\n",
       "    <tr>\n",
       "      <th>0</th>\n",
       "      <td>National popular vote</td>\n",
       "      <td>Nixon</td>\n",
       "      <td>Carter</td>\n",
       "      <td>Reagan</td>\n",
       "      <td>Reagan</td>\n",
       "      <td>Bush</td>\n",
       "      <td>Clinton</td>\n",
       "      <td>Clinton</td>\n",
       "      <td>Gore</td>\n",
       "      <td>Bush</td>\n",
       "      <td>Obama</td>\n",
       "      <td>Obama</td>\n",
       "      <td>Clinton</td>\n",
       "      <td>Biden</td>\n",
       "      <td>Trump</td>\n",
       "    </tr>\n",
       "    <tr>\n",
       "      <th>1</th>\n",
       "      <td>Alabama</td>\n",
       "      <td>Nixon</td>\n",
       "      <td>Carter</td>\n",
       "      <td>Reagan</td>\n",
       "      <td>Reagan</td>\n",
       "      <td>Bush</td>\n",
       "      <td>Bush</td>\n",
       "      <td>Dole</td>\n",
       "      <td>Bush</td>\n",
       "      <td>Bush</td>\n",
       "      <td>McCain</td>\n",
       "      <td>Romney</td>\n",
       "      <td>Trump</td>\n",
       "      <td>Trump</td>\n",
       "      <td>Trump</td>\n",
       "    </tr>\n",
       "    <tr>\n",
       "      <th>2</th>\n",
       "      <td>Alaska</td>\n",
       "      <td>Nixon</td>\n",
       "      <td>Ford</td>\n",
       "      <td>Reagan</td>\n",
       "      <td>Reagan</td>\n",
       "      <td>Bush</td>\n",
       "      <td>Bush</td>\n",
       "      <td>Dole</td>\n",
       "      <td>Bush</td>\n",
       "      <td>Bush</td>\n",
       "      <td>McCain</td>\n",
       "      <td>Romney</td>\n",
       "      <td>Trump</td>\n",
       "      <td>Trump</td>\n",
       "      <td>Trump</td>\n",
       "    </tr>\n",
       "    <tr>\n",
       "      <th>3</th>\n",
       "      <td>Arizona</td>\n",
       "      <td>Nixon</td>\n",
       "      <td>Ford</td>\n",
       "      <td>Reagan</td>\n",
       "      <td>Reagan</td>\n",
       "      <td>Bush</td>\n",
       "      <td>Bush</td>\n",
       "      <td>Clinton</td>\n",
       "      <td>Bush</td>\n",
       "      <td>Bush</td>\n",
       "      <td>McCain</td>\n",
       "      <td>Romney</td>\n",
       "      <td>Trump</td>\n",
       "      <td>Biden</td>\n",
       "      <td>Trump</td>\n",
       "    </tr>\n",
       "    <tr>\n",
       "      <th>4</th>\n",
       "      <td>Arkansas</td>\n",
       "      <td>Nixon</td>\n",
       "      <td>Carter</td>\n",
       "      <td>Reagan</td>\n",
       "      <td>Reagan</td>\n",
       "      <td>Bush</td>\n",
       "      <td>Clinton</td>\n",
       "      <td>Clinton</td>\n",
       "      <td>Bush</td>\n",
       "      <td>Bush</td>\n",
       "      <td>McCain</td>\n",
       "      <td>Romney</td>\n",
       "      <td>Trump</td>\n",
       "      <td>Trump</td>\n",
       "      <td>Trump</td>\n",
       "    </tr>\n",
       "  </tbody>\n",
       "</table>\n",
       "</div>"
      ]
     },
     "execution_count": 3,
     "metadata": {},
     "output_type": "execute_result"
    }
   ],
   "execution_count": 3
  },
  {
   "metadata": {
    "ExecuteTime": {
     "end_time": "2025-06-03T19:50:20.593704Z",
     "start_time": "2025-06-03T19:50:20.587755Z"
    }
   },
   "cell_type": "code",
   "source": [
    "candidate_dataframe = pd.read_csv(candidate_dataframe_path)\n",
    "\n",
    "print(\"The first five records of the candidate dataframe: \\n\")\n",
    "candidate_dataframe.head()"
   ],
   "id": "ce30fcbfbd1f1654",
   "outputs": [
    {
     "name": "stdout",
     "output_type": "stream",
     "text": [
      "The first five records of the candidate dataframe: \n",
      "\n"
     ]
    },
    {
     "data": {
      "text/plain": [
       "                   Year             1972          1976           1980  \\\n",
       "0  Democratic candidate  George McGovern  Jimmy Carter   Jimmy Carter   \n",
       "1  Republican candidate    Richard Nixon   Gerald Ford  Ronald Reagan   \n",
       "\n",
       "             1984               1988               1992          1996  \\\n",
       "0  Walter Mondale    Michael Dukakis       Bill Clinton  Bill Clinton   \n",
       "1   Ronald Reagan  George H. W. Bush  George H. W. Bush      Bob Dole   \n",
       "\n",
       "             2000            2004          2008          2012  \\\n",
       "0         Al Gore      John Kerry  Barack Obama  Barack Obama   \n",
       "1  George W. Bush  George W. Bush   John McCain   Mitt Romney   \n",
       "\n",
       "              2016          2020           2024  \n",
       "0  Hillary Clinton     Joe Biden  Kamala Harris  \n",
       "1     Donald Trump  Donald Trump   Donald Trump  "
      ],
      "text/html": [
       "<div>\n",
       "<style scoped>\n",
       "    .dataframe tbody tr th:only-of-type {\n",
       "        vertical-align: middle;\n",
       "    }\n",
       "\n",
       "    .dataframe tbody tr th {\n",
       "        vertical-align: top;\n",
       "    }\n",
       "\n",
       "    .dataframe thead th {\n",
       "        text-align: right;\n",
       "    }\n",
       "</style>\n",
       "<table border=\"1\" class=\"dataframe\">\n",
       "  <thead>\n",
       "    <tr style=\"text-align: right;\">\n",
       "      <th></th>\n",
       "      <th>Year</th>\n",
       "      <th>1972</th>\n",
       "      <th>1976</th>\n",
       "      <th>1980</th>\n",
       "      <th>1984</th>\n",
       "      <th>1988</th>\n",
       "      <th>1992</th>\n",
       "      <th>1996</th>\n",
       "      <th>2000</th>\n",
       "      <th>2004</th>\n",
       "      <th>2008</th>\n",
       "      <th>2012</th>\n",
       "      <th>2016</th>\n",
       "      <th>2020</th>\n",
       "      <th>2024</th>\n",
       "    </tr>\n",
       "  </thead>\n",
       "  <tbody>\n",
       "    <tr>\n",
       "      <th>0</th>\n",
       "      <td>Democratic candidate</td>\n",
       "      <td>George McGovern</td>\n",
       "      <td>Jimmy Carter</td>\n",
       "      <td>Jimmy Carter</td>\n",
       "      <td>Walter Mondale</td>\n",
       "      <td>Michael Dukakis</td>\n",
       "      <td>Bill Clinton</td>\n",
       "      <td>Bill Clinton</td>\n",
       "      <td>Al Gore</td>\n",
       "      <td>John Kerry</td>\n",
       "      <td>Barack Obama</td>\n",
       "      <td>Barack Obama</td>\n",
       "      <td>Hillary Clinton</td>\n",
       "      <td>Joe Biden</td>\n",
       "      <td>Kamala Harris</td>\n",
       "    </tr>\n",
       "    <tr>\n",
       "      <th>1</th>\n",
       "      <td>Republican candidate</td>\n",
       "      <td>Richard Nixon</td>\n",
       "      <td>Gerald Ford</td>\n",
       "      <td>Ronald Reagan</td>\n",
       "      <td>Ronald Reagan</td>\n",
       "      <td>George H. W. Bush</td>\n",
       "      <td>George H. W. Bush</td>\n",
       "      <td>Bob Dole</td>\n",
       "      <td>George W. Bush</td>\n",
       "      <td>George W. Bush</td>\n",
       "      <td>John McCain</td>\n",
       "      <td>Mitt Romney</td>\n",
       "      <td>Donald Trump</td>\n",
       "      <td>Donald Trump</td>\n",
       "      <td>Donald Trump</td>\n",
       "    </tr>\n",
       "  </tbody>\n",
       "</table>\n",
       "</div>"
      ]
     },
     "execution_count": 4,
     "metadata": {},
     "output_type": "execute_result"
    }
   ],
   "execution_count": 4
  },
  {
   "metadata": {},
   "cell_type": "markdown",
   "source": "# 3. 🧹 Cleaning Messy Data",
   "id": "1b25363fe05e8b86"
  },
  {
   "metadata": {},
   "cell_type": "markdown",
   "source": "⚓️ Let's check the count of null values in every column. ⤵️",
   "id": "fe08dd5723d8fa0e"
  },
  {
   "metadata": {},
   "cell_type": "markdown",
   "source": [
    "## 3.1. 🪹 Drop Null Values\n",
    "\n",
    "Drop all the rows with null values, as those won't add any value according to our end goal."
   ],
   "id": "d988d7c55f8af676"
  },
  {
   "metadata": {
    "ExecuteTime": {
     "end_time": "2025-06-03T19:50:20.656131Z",
     "start_time": "2025-06-03T19:50:20.651739Z"
    }
   },
   "cell_type": "code",
   "source": [
    "state_null_count = states_dataframe.isnull().sum().reset_index()\n",
    "state_null_count.columns = [\"Column\", \"Null Count\"]\n",
    "\n",
    "print(\"Count of null values in each column: \\n\")\n",
    "state_null_count"
   ],
   "id": "dd29c9654e472def",
   "outputs": [
    {
     "name": "stdout",
     "output_type": "stream",
     "text": [
      "Count of null values in each column: \n",
      "\n"
     ]
    },
    {
     "data": {
      "text/plain": [
       "   Column  Null Count\n",
       "0    Year           0\n",
       "1    1972           1\n",
       "2    1976           1\n",
       "3    1980           1\n",
       "4    1984           2\n",
       "5    1988           3\n",
       "6    1992           3\n",
       "7    1996           3\n",
       "8    2000           3\n",
       "9    2004           3\n",
       "10   2008           3\n",
       "11   2012           3\n",
       "12   2016           3\n",
       "13   2020           3\n",
       "14   2024           3"
      ],
      "text/html": [
       "<div>\n",
       "<style scoped>\n",
       "    .dataframe tbody tr th:only-of-type {\n",
       "        vertical-align: middle;\n",
       "    }\n",
       "\n",
       "    .dataframe tbody tr th {\n",
       "        vertical-align: top;\n",
       "    }\n",
       "\n",
       "    .dataframe thead th {\n",
       "        text-align: right;\n",
       "    }\n",
       "</style>\n",
       "<table border=\"1\" class=\"dataframe\">\n",
       "  <thead>\n",
       "    <tr style=\"text-align: right;\">\n",
       "      <th></th>\n",
       "      <th>Column</th>\n",
       "      <th>Null Count</th>\n",
       "    </tr>\n",
       "  </thead>\n",
       "  <tbody>\n",
       "    <tr>\n",
       "      <th>0</th>\n",
       "      <td>Year</td>\n",
       "      <td>0</td>\n",
       "    </tr>\n",
       "    <tr>\n",
       "      <th>1</th>\n",
       "      <td>1972</td>\n",
       "      <td>1</td>\n",
       "    </tr>\n",
       "    <tr>\n",
       "      <th>2</th>\n",
       "      <td>1976</td>\n",
       "      <td>1</td>\n",
       "    </tr>\n",
       "    <tr>\n",
       "      <th>3</th>\n",
       "      <td>1980</td>\n",
       "      <td>1</td>\n",
       "    </tr>\n",
       "    <tr>\n",
       "      <th>4</th>\n",
       "      <td>1984</td>\n",
       "      <td>2</td>\n",
       "    </tr>\n",
       "    <tr>\n",
       "      <th>5</th>\n",
       "      <td>1988</td>\n",
       "      <td>3</td>\n",
       "    </tr>\n",
       "    <tr>\n",
       "      <th>6</th>\n",
       "      <td>1992</td>\n",
       "      <td>3</td>\n",
       "    </tr>\n",
       "    <tr>\n",
       "      <th>7</th>\n",
       "      <td>1996</td>\n",
       "      <td>3</td>\n",
       "    </tr>\n",
       "    <tr>\n",
       "      <th>8</th>\n",
       "      <td>2000</td>\n",
       "      <td>3</td>\n",
       "    </tr>\n",
       "    <tr>\n",
       "      <th>9</th>\n",
       "      <td>2004</td>\n",
       "      <td>3</td>\n",
       "    </tr>\n",
       "    <tr>\n",
       "      <th>10</th>\n",
       "      <td>2008</td>\n",
       "      <td>3</td>\n",
       "    </tr>\n",
       "    <tr>\n",
       "      <th>11</th>\n",
       "      <td>2012</td>\n",
       "      <td>3</td>\n",
       "    </tr>\n",
       "    <tr>\n",
       "      <th>12</th>\n",
       "      <td>2016</td>\n",
       "      <td>3</td>\n",
       "    </tr>\n",
       "    <tr>\n",
       "      <th>13</th>\n",
       "      <td>2020</td>\n",
       "      <td>3</td>\n",
       "    </tr>\n",
       "    <tr>\n",
       "      <th>14</th>\n",
       "      <td>2024</td>\n",
       "      <td>3</td>\n",
       "    </tr>\n",
       "  </tbody>\n",
       "</table>\n",
       "</div>"
      ]
     },
     "execution_count": 5,
     "metadata": {},
     "output_type": "execute_result"
    }
   ],
   "execution_count": 5
  },
  {
   "metadata": {
    "ExecuteTime": {
     "end_time": "2025-06-03T19:50:20.722405Z",
     "start_time": "2025-06-03T19:50:20.720465Z"
    }
   },
   "cell_type": "code",
   "source": "print(\"Shape of the state dataframe: \", states_dataframe.shape)",
   "id": "97925edd15683d6a",
   "outputs": [
    {
     "name": "stdout",
     "output_type": "stream",
     "text": [
      "Shape of the state dataframe:  (55, 15)\n"
     ]
    }
   ],
   "execution_count": 6
  },
  {
   "metadata": {},
   "cell_type": "markdown",
   "source": "⚓️ Now, drop all the rows that have null data, as those don't contain the primary candidates of the winners. ⤵️",
   "id": "76ebb78fb26a4a42"
  },
  {
   "metadata": {
    "ExecuteTime": {
     "end_time": "2025-06-03T19:50:20.791714Z",
     "start_time": "2025-06-03T19:50:20.789169Z"
    }
   },
   "cell_type": "code",
   "source": "states_dataframe.dropna(inplace = True)",
   "id": "3f478489d4e0bf39",
   "outputs": [],
   "execution_count": 7
  },
  {
   "metadata": {
    "ExecuteTime": {
     "end_time": "2025-06-03T19:50:20.822071Z",
     "start_time": "2025-06-03T19:50:20.820180Z"
    }
   },
   "cell_type": "code",
   "source": "print(\"Shape of the state dataframe after dropping all the rows containing null values: \", states_dataframe.shape)",
   "id": "88632f87a37246d3",
   "outputs": [
    {
     "name": "stdout",
     "output_type": "stream",
     "text": [
      "Shape of the state dataframe after dropping all the rows containing null values:  (52, 15)\n"
     ]
    }
   ],
   "execution_count": 8
  },
  {
   "metadata": {},
   "cell_type": "markdown",
   "source": [
    "## 3.2. 🥡 Remove Unnecessary Data\n",
    "\n",
    "Remove the unnecessary part of each cell of the dataframe, as those don't contain information helpful for achieving our goal."
   ],
   "id": "1097ada3e372076"
  },
  {
   "metadata": {
    "ExecuteTime": {
     "end_time": "2025-06-03T19:50:20.836482Z",
     "start_time": "2025-06-03T19:50:20.834489Z"
    }
   },
   "cell_type": "code",
   "source": "print(\"Let's check the value of the 21st row and 7th column: \", states_dataframe.iloc[20, 6])",
   "id": "b297a7a8dc66eaed",
   "outputs": [
    {
     "name": "stdout",
     "output_type": "stream",
     "text": [
      "Let's check the value of the 21st row and 7th column:  Clinton (at-large and ME-01)\n"
     ]
    }
   ],
   "execution_count": 9
  },
  {
   "metadata": {},
   "cell_type": "markdown",
   "source": [
    "⚓️ The `(at-large and ME-01)` part of `Clinton (at-large and ME-01)` is unnecessary for our end goal.\n",
    "As we have some data like this, we have to remove those from the strings. ⤵️"
   ],
   "id": "864c34d18f8ff231"
  },
  {
   "metadata": {},
   "cell_type": "markdown",
   "source": "⚓️ Function for removing the unnecessary parts of the strings.",
   "id": "c0859dc3edf029d1"
  },
  {
   "metadata": {
    "ExecuteTime": {
     "end_time": "2025-06-03T19:50:20.855365Z",
     "start_time": "2025-06-03T19:50:20.853477Z"
    }
   },
   "cell_type": "code",
   "source": [
    "def remove_unnecessary_strings(string: str) -> str:\n",
    "    \"\"\"\n",
    "    Removes any substrings enclosed in parentheses (including the parentheses themselves).\n",
    "    Parameters:⤵️\n",
    "        - string (str): The input string potentially containing text in parentheses.\n",
    "    Returns:\n",
    "        - str: A cleaned string with all substrings in parentheses removed.\n",
    "    \"\"\"\n",
    "    return re.sub(r\"\\s*\\([^)]*\\)\", \"\", string)"
   ],
   "id": "29836fc33561414b",
   "outputs": [],
   "execution_count": 10
  },
  {
   "metadata": {},
   "cell_type": "markdown",
   "source": "⚓️ Remove all the unnecessary parts of the strings and create a new dataframe. ⤵️",
   "id": "ebae225094df5dc3"
  },
  {
   "metadata": {
    "ExecuteTime": {
     "end_time": "2025-06-03T19:50:20.880359Z",
     "start_time": "2025-06-03T19:50:20.877758Z"
    }
   },
   "cell_type": "code",
   "source": "clean_states_dataframe = states_dataframe.map(remove_unnecessary_strings)",
   "id": "4b40497698e89367",
   "outputs": [],
   "execution_count": 11
  },
  {
   "metadata": {
    "ExecuteTime": {
     "end_time": "2025-06-03T19:50:20.945133Z",
     "start_time": "2025-06-03T19:50:20.943234Z"
    }
   },
   "cell_type": "code",
   "source": "print(\"The value of the 21st row and 7th column (after removing unnecessary parts): \", clean_states_dataframe.iloc[20, 6])",
   "id": "9a930cf111ebae6e",
   "outputs": [
    {
     "name": "stdout",
     "output_type": "stream",
     "text": [
      "The value of the 21st row and 7th column (after removing unnecessary parts):  Clinton\n"
     ]
    }
   ],
   "execution_count": 12
  },
  {
   "metadata": {},
   "cell_type": "markdown",
   "source": "## 3.3. 🥬 Last Name to Full Name",
   "id": "7a34d088753eb145"
  },
  {
   "metadata": {},
   "cell_type": "markdown",
   "source": "⚓️ Replace the short name with the full name of a candidate. ⤵️",
   "id": "6c08e18378e1524a"
  },
  {
   "metadata": {
    "ExecuteTime": {
     "end_time": "2025-06-03T19:50:20.991047Z",
     "start_time": "2025-06-03T19:50:20.989100Z"
    }
   },
   "cell_type": "code",
   "source": [
    "def replace_with_full_name(name: str, democratic: str, republican: str) -> str:\n",
    "    \"\"\"\n",
    "    Replace a short candidate name with the full name if it matches a Democratic or Republican candidate.\n",
    "    Parameters:\n",
    "        - name (str): A short name of the candidate.\n",
    "        - democratic (str): The full name of the Democratic candidate for a specific year.\n",
    "        - republican (str): The full name of the Republican candidate for the same year.\n",
    "    Returns:\n",
    "        - str: The full candidate name if the short name is a substring of either candidate;\n",
    "             otherwise, returns the original cell value.\n",
    "    \"\"\"\n",
    "    if isinstance(name, str):\n",
    "        if name in democratic:\n",
    "            return democratic\n",
    "        elif name in republican:\n",
    "            return republican\n",
    "\n",
    "    return name"
   ],
   "id": "71307cab4f66d5e8",
   "outputs": [],
   "execution_count": 13
  },
  {
   "metadata": {},
   "cell_type": "markdown",
   "source": "⚓️ Apply the replacement for each column. ⤵️",
   "id": "ce94a7ca9245b7f5"
  },
  {
   "metadata": {
    "ExecuteTime": {
     "end_time": "2025-06-03T19:50:21.016494Z",
     "start_time": "2025-06-03T19:50:21.012507Z"
    }
   },
   "cell_type": "code",
   "source": [
    "for column in candidate_dataframe.columns:\n",
    "    democratic_candidate = candidate_dataframe.loc[0, column]\n",
    "    republican_candidate = candidate_dataframe.loc[1, column]\n",
    "\n",
    "    clean_states_dataframe[column] = clean_states_dataframe[column].apply(\n",
    "        lambda cell: replace_with_full_name(cell, democratic_candidate, republican_candidate)\n",
    "    )\n"
   ],
   "id": "f060d11eb0117785",
   "outputs": [],
   "execution_count": 14
  },
  {
   "metadata": {
    "ExecuteTime": {
     "end_time": "2025-06-03T19:50:21.037419Z",
     "start_time": "2025-06-03T19:50:21.032318Z"
    }
   },
   "cell_type": "code",
   "source": [
    "print(\"After cleaning the dataframe: \\n\")\n",
    "clean_states_dataframe.head()"
   ],
   "id": "b4176983f2f167d6",
   "outputs": [
    {
     "name": "stdout",
     "output_type": "stream",
     "text": [
      "After cleaning the dataframe: \n",
      "\n"
     ]
    },
    {
     "data": {
      "text/plain": [
       "                    Year           1972          1976           1980  \\\n",
       "0  National popular vote  Richard Nixon  Jimmy Carter  Ronald Reagan   \n",
       "1                Alabama  Richard Nixon  Jimmy Carter  Ronald Reagan   \n",
       "2                 Alaska  Richard Nixon   Gerald Ford  Ronald Reagan   \n",
       "3                Arizona  Richard Nixon   Gerald Ford  Ronald Reagan   \n",
       "4               Arkansas  Richard Nixon  Jimmy Carter  Ronald Reagan   \n",
       "\n",
       "            1984               1988               1992          1996  \\\n",
       "0  Ronald Reagan  George H. W. Bush       Bill Clinton  Bill Clinton   \n",
       "1  Ronald Reagan  George H. W. Bush  George H. W. Bush      Bob Dole   \n",
       "2  Ronald Reagan  George H. W. Bush  George H. W. Bush      Bob Dole   \n",
       "3  Ronald Reagan  George H. W. Bush  George H. W. Bush  Bill Clinton   \n",
       "4  Ronald Reagan  George H. W. Bush       Bill Clinton  Bill Clinton   \n",
       "\n",
       "             2000            2004          2008          2012  \\\n",
       "0         Al Gore  George W. Bush  Barack Obama  Barack Obama   \n",
       "1  George W. Bush  George W. Bush   John McCain   Mitt Romney   \n",
       "2  George W. Bush  George W. Bush   John McCain   Mitt Romney   \n",
       "3  George W. Bush  George W. Bush   John McCain   Mitt Romney   \n",
       "4  George W. Bush  George W. Bush   John McCain   Mitt Romney   \n",
       "\n",
       "              2016          2020          2024  \n",
       "0  Hillary Clinton     Joe Biden  Donald Trump  \n",
       "1     Donald Trump  Donald Trump  Donald Trump  \n",
       "2     Donald Trump  Donald Trump  Donald Trump  \n",
       "3     Donald Trump     Joe Biden  Donald Trump  \n",
       "4     Donald Trump  Donald Trump  Donald Trump  "
      ],
      "text/html": [
       "<div>\n",
       "<style scoped>\n",
       "    .dataframe tbody tr th:only-of-type {\n",
       "        vertical-align: middle;\n",
       "    }\n",
       "\n",
       "    .dataframe tbody tr th {\n",
       "        vertical-align: top;\n",
       "    }\n",
       "\n",
       "    .dataframe thead th {\n",
       "        text-align: right;\n",
       "    }\n",
       "</style>\n",
       "<table border=\"1\" class=\"dataframe\">\n",
       "  <thead>\n",
       "    <tr style=\"text-align: right;\">\n",
       "      <th></th>\n",
       "      <th>Year</th>\n",
       "      <th>1972</th>\n",
       "      <th>1976</th>\n",
       "      <th>1980</th>\n",
       "      <th>1984</th>\n",
       "      <th>1988</th>\n",
       "      <th>1992</th>\n",
       "      <th>1996</th>\n",
       "      <th>2000</th>\n",
       "      <th>2004</th>\n",
       "      <th>2008</th>\n",
       "      <th>2012</th>\n",
       "      <th>2016</th>\n",
       "      <th>2020</th>\n",
       "      <th>2024</th>\n",
       "    </tr>\n",
       "  </thead>\n",
       "  <tbody>\n",
       "    <tr>\n",
       "      <th>0</th>\n",
       "      <td>National popular vote</td>\n",
       "      <td>Richard Nixon</td>\n",
       "      <td>Jimmy Carter</td>\n",
       "      <td>Ronald Reagan</td>\n",
       "      <td>Ronald Reagan</td>\n",
       "      <td>George H. W. Bush</td>\n",
       "      <td>Bill Clinton</td>\n",
       "      <td>Bill Clinton</td>\n",
       "      <td>Al Gore</td>\n",
       "      <td>George W. Bush</td>\n",
       "      <td>Barack Obama</td>\n",
       "      <td>Barack Obama</td>\n",
       "      <td>Hillary Clinton</td>\n",
       "      <td>Joe Biden</td>\n",
       "      <td>Donald Trump</td>\n",
       "    </tr>\n",
       "    <tr>\n",
       "      <th>1</th>\n",
       "      <td>Alabama</td>\n",
       "      <td>Richard Nixon</td>\n",
       "      <td>Jimmy Carter</td>\n",
       "      <td>Ronald Reagan</td>\n",
       "      <td>Ronald Reagan</td>\n",
       "      <td>George H. W. Bush</td>\n",
       "      <td>George H. W. Bush</td>\n",
       "      <td>Bob Dole</td>\n",
       "      <td>George W. Bush</td>\n",
       "      <td>George W. Bush</td>\n",
       "      <td>John McCain</td>\n",
       "      <td>Mitt Romney</td>\n",
       "      <td>Donald Trump</td>\n",
       "      <td>Donald Trump</td>\n",
       "      <td>Donald Trump</td>\n",
       "    </tr>\n",
       "    <tr>\n",
       "      <th>2</th>\n",
       "      <td>Alaska</td>\n",
       "      <td>Richard Nixon</td>\n",
       "      <td>Gerald Ford</td>\n",
       "      <td>Ronald Reagan</td>\n",
       "      <td>Ronald Reagan</td>\n",
       "      <td>George H. W. Bush</td>\n",
       "      <td>George H. W. Bush</td>\n",
       "      <td>Bob Dole</td>\n",
       "      <td>George W. Bush</td>\n",
       "      <td>George W. Bush</td>\n",
       "      <td>John McCain</td>\n",
       "      <td>Mitt Romney</td>\n",
       "      <td>Donald Trump</td>\n",
       "      <td>Donald Trump</td>\n",
       "      <td>Donald Trump</td>\n",
       "    </tr>\n",
       "    <tr>\n",
       "      <th>3</th>\n",
       "      <td>Arizona</td>\n",
       "      <td>Richard Nixon</td>\n",
       "      <td>Gerald Ford</td>\n",
       "      <td>Ronald Reagan</td>\n",
       "      <td>Ronald Reagan</td>\n",
       "      <td>George H. W. Bush</td>\n",
       "      <td>George H. W. Bush</td>\n",
       "      <td>Bill Clinton</td>\n",
       "      <td>George W. Bush</td>\n",
       "      <td>George W. Bush</td>\n",
       "      <td>John McCain</td>\n",
       "      <td>Mitt Romney</td>\n",
       "      <td>Donald Trump</td>\n",
       "      <td>Joe Biden</td>\n",
       "      <td>Donald Trump</td>\n",
       "    </tr>\n",
       "    <tr>\n",
       "      <th>4</th>\n",
       "      <td>Arkansas</td>\n",
       "      <td>Richard Nixon</td>\n",
       "      <td>Jimmy Carter</td>\n",
       "      <td>Ronald Reagan</td>\n",
       "      <td>Ronald Reagan</td>\n",
       "      <td>George H. W. Bush</td>\n",
       "      <td>Bill Clinton</td>\n",
       "      <td>Bill Clinton</td>\n",
       "      <td>George W. Bush</td>\n",
       "      <td>George W. Bush</td>\n",
       "      <td>John McCain</td>\n",
       "      <td>Mitt Romney</td>\n",
       "      <td>Donald Trump</td>\n",
       "      <td>Donald Trump</td>\n",
       "      <td>Donald Trump</td>\n",
       "    </tr>\n",
       "  </tbody>\n",
       "</table>\n",
       "</div>"
      ]
     },
     "execution_count": 15,
     "metadata": {},
     "output_type": "execute_result"
    }
   ],
   "execution_count": 15
  },
  {
   "metadata": {
    "ExecuteTime": {
     "end_time": "2025-06-03T19:50:21.071967Z",
     "start_time": "2025-06-03T19:50:21.068022Z"
    }
   },
   "cell_type": "code",
   "source": [
    "unique_counts = clean_states_dataframe.nunique().reset_index()\n",
    "unique_counts.columns = [\"Column\", \"Unique Count\"]\n",
    "\n",
    "print(\"Unique values in each column: \\n\")\n",
    "print(unique_counts)"
   ],
   "id": "c35ae5786d6cf7ef",
   "outputs": [
    {
     "name": "stdout",
     "output_type": "stream",
     "text": [
      "Unique values in each column: \n",
      "\n",
      "   Column  Unique Count\n",
      "0    Year            52\n",
      "1    1972             2\n",
      "2    1976             2\n",
      "3    1980             2\n",
      "4    1984             2\n",
      "5    1988             2\n",
      "6    1992             2\n",
      "7    1996             2\n",
      "8    2000             2\n",
      "9    2004             2\n",
      "10   2008             2\n",
      "11   2012             2\n",
      "12   2016             2\n",
      "13   2020             2\n",
      "14   2024             2\n"
     ]
    }
   ],
   "execution_count": 16
  },
  {
   "metadata": {},
   "cell_type": "markdown",
   "source": [
    "# 4. 🌪️ Data Integration\n",
    "\n",
    "Combine the state dataframe and candidate dataframe together to get a state-by-party database based on the year."
   ],
   "id": "f537c4874833602d"
  },
  {
   "metadata": {
    "ExecuteTime": {
     "end_time": "2025-06-03T19:50:21.144284Z",
     "start_time": "2025-06-03T19:50:21.120686Z"
    }
   },
   "cell_type": "code",
   "source": [
    "contents = []\n",
    "\n",
    "for idx, row in clean_states_dataframe.iterrows():\n",
    "    content = []\n",
    "\n",
    "    for column in clean_states_dataframe.columns:\n",
    "        name = row[column]\n",
    "        democratic_candidate = candidate_dataframe.loc[0, column]\n",
    "        republican_candidate = candidate_dataframe.loc[1, column]\n",
    "        democratic_label = candidate_dataframe.iloc[0, 0].split()[0]\n",
    "        republican_label = candidate_dataframe.iloc[1, 0].split()[0]\n",
    "\n",
    "        if name in democratic_candidate:\n",
    "            content.append(democratic_label)\n",
    "        elif name in republican_candidate:\n",
    "            content.append(republican_label)\n",
    "        else:\n",
    "            content.append(name)\n",
    "\n",
    "    contents.append(content)\n",
    "\n",
    "print(\"1st row of the state-party list: \", contents[0])"
   ],
   "id": "b93ca2c2bbb356dc",
   "outputs": [
    {
     "name": "stdout",
     "output_type": "stream",
     "text": [
      "1st row of the state-party list:  ['National popular vote', 'Republican', 'Democratic', 'Republican', 'Republican', 'Republican', 'Democratic', 'Democratic', 'Democratic', 'Republican', 'Democratic', 'Democratic', 'Democratic', 'Democratic', 'Republican']\n"
     ]
    }
   ],
   "execution_count": 17
  },
  {
   "metadata": {
    "ExecuteTime": {
     "end_time": "2025-06-03T19:50:21.178943Z",
     "start_time": "2025-06-03T19:50:21.173267Z"
    }
   },
   "cell_type": "code",
   "source": [
    "state_party_dataframe = pd.DataFrame(data = contents, columns = candidate_dataframe.columns)\n",
    "\n",
    "print(\"Final state-party dataframe: \\n\")\n",
    "state_party_dataframe.head()"
   ],
   "id": "7571db5a39ba8419",
   "outputs": [
    {
     "name": "stdout",
     "output_type": "stream",
     "text": [
      "Final state-party dataframe: \n",
      "\n"
     ]
    },
    {
     "data": {
      "text/plain": [
       "                    Year        1972        1976        1980        1984  \\\n",
       "0  National popular vote  Republican  Democratic  Republican  Republican   \n",
       "1                Alabama  Republican  Democratic  Republican  Republican   \n",
       "2                 Alaska  Republican  Republican  Republican  Republican   \n",
       "3                Arizona  Republican  Republican  Republican  Republican   \n",
       "4               Arkansas  Republican  Democratic  Republican  Republican   \n",
       "\n",
       "         1988        1992        1996        2000        2004        2008  \\\n",
       "0  Republican  Democratic  Democratic  Democratic  Republican  Democratic   \n",
       "1  Republican  Republican  Republican  Republican  Republican  Republican   \n",
       "2  Republican  Republican  Republican  Republican  Republican  Republican   \n",
       "3  Republican  Republican  Democratic  Republican  Republican  Republican   \n",
       "4  Republican  Democratic  Democratic  Republican  Republican  Republican   \n",
       "\n",
       "         2012        2016        2020        2024  \n",
       "0  Democratic  Democratic  Democratic  Republican  \n",
       "1  Republican  Republican  Republican  Republican  \n",
       "2  Republican  Republican  Republican  Republican  \n",
       "3  Republican  Republican  Democratic  Republican  \n",
       "4  Republican  Republican  Republican  Republican  "
      ],
      "text/html": [
       "<div>\n",
       "<style scoped>\n",
       "    .dataframe tbody tr th:only-of-type {\n",
       "        vertical-align: middle;\n",
       "    }\n",
       "\n",
       "    .dataframe tbody tr th {\n",
       "        vertical-align: top;\n",
       "    }\n",
       "\n",
       "    .dataframe thead th {\n",
       "        text-align: right;\n",
       "    }\n",
       "</style>\n",
       "<table border=\"1\" class=\"dataframe\">\n",
       "  <thead>\n",
       "    <tr style=\"text-align: right;\">\n",
       "      <th></th>\n",
       "      <th>Year</th>\n",
       "      <th>1972</th>\n",
       "      <th>1976</th>\n",
       "      <th>1980</th>\n",
       "      <th>1984</th>\n",
       "      <th>1988</th>\n",
       "      <th>1992</th>\n",
       "      <th>1996</th>\n",
       "      <th>2000</th>\n",
       "      <th>2004</th>\n",
       "      <th>2008</th>\n",
       "      <th>2012</th>\n",
       "      <th>2016</th>\n",
       "      <th>2020</th>\n",
       "      <th>2024</th>\n",
       "    </tr>\n",
       "  </thead>\n",
       "  <tbody>\n",
       "    <tr>\n",
       "      <th>0</th>\n",
       "      <td>National popular vote</td>\n",
       "      <td>Republican</td>\n",
       "      <td>Democratic</td>\n",
       "      <td>Republican</td>\n",
       "      <td>Republican</td>\n",
       "      <td>Republican</td>\n",
       "      <td>Democratic</td>\n",
       "      <td>Democratic</td>\n",
       "      <td>Democratic</td>\n",
       "      <td>Republican</td>\n",
       "      <td>Democratic</td>\n",
       "      <td>Democratic</td>\n",
       "      <td>Democratic</td>\n",
       "      <td>Democratic</td>\n",
       "      <td>Republican</td>\n",
       "    </tr>\n",
       "    <tr>\n",
       "      <th>1</th>\n",
       "      <td>Alabama</td>\n",
       "      <td>Republican</td>\n",
       "      <td>Democratic</td>\n",
       "      <td>Republican</td>\n",
       "      <td>Republican</td>\n",
       "      <td>Republican</td>\n",
       "      <td>Republican</td>\n",
       "      <td>Republican</td>\n",
       "      <td>Republican</td>\n",
       "      <td>Republican</td>\n",
       "      <td>Republican</td>\n",
       "      <td>Republican</td>\n",
       "      <td>Republican</td>\n",
       "      <td>Republican</td>\n",
       "      <td>Republican</td>\n",
       "    </tr>\n",
       "    <tr>\n",
       "      <th>2</th>\n",
       "      <td>Alaska</td>\n",
       "      <td>Republican</td>\n",
       "      <td>Republican</td>\n",
       "      <td>Republican</td>\n",
       "      <td>Republican</td>\n",
       "      <td>Republican</td>\n",
       "      <td>Republican</td>\n",
       "      <td>Republican</td>\n",
       "      <td>Republican</td>\n",
       "      <td>Republican</td>\n",
       "      <td>Republican</td>\n",
       "      <td>Republican</td>\n",
       "      <td>Republican</td>\n",
       "      <td>Republican</td>\n",
       "      <td>Republican</td>\n",
       "    </tr>\n",
       "    <tr>\n",
       "      <th>3</th>\n",
       "      <td>Arizona</td>\n",
       "      <td>Republican</td>\n",
       "      <td>Republican</td>\n",
       "      <td>Republican</td>\n",
       "      <td>Republican</td>\n",
       "      <td>Republican</td>\n",
       "      <td>Republican</td>\n",
       "      <td>Democratic</td>\n",
       "      <td>Republican</td>\n",
       "      <td>Republican</td>\n",
       "      <td>Republican</td>\n",
       "      <td>Republican</td>\n",
       "      <td>Republican</td>\n",
       "      <td>Democratic</td>\n",
       "      <td>Republican</td>\n",
       "    </tr>\n",
       "    <tr>\n",
       "      <th>4</th>\n",
       "      <td>Arkansas</td>\n",
       "      <td>Republican</td>\n",
       "      <td>Democratic</td>\n",
       "      <td>Republican</td>\n",
       "      <td>Republican</td>\n",
       "      <td>Republican</td>\n",
       "      <td>Democratic</td>\n",
       "      <td>Democratic</td>\n",
       "      <td>Republican</td>\n",
       "      <td>Republican</td>\n",
       "      <td>Republican</td>\n",
       "      <td>Republican</td>\n",
       "      <td>Republican</td>\n",
       "      <td>Republican</td>\n",
       "      <td>Republican</td>\n",
       "    </tr>\n",
       "  </tbody>\n",
       "</table>\n",
       "</div>"
      ]
     },
     "execution_count": 18,
     "metadata": {},
     "output_type": "execute_result"
    }
   ],
   "execution_count": 18
  },
  {
   "metadata": {},
   "cell_type": "markdown",
   "source": [
    "# 5. 💣 Export the DataFrame\n",
    "\n",
    "⚓️ Create a reusable function to export a dataframe into a CSV file. ⤵️"
   ],
   "id": "b7e97f747dd3e60f"
  },
  {
   "metadata": {
    "ExecuteTime": {
     "end_time": "2025-06-03T19:50:21.236019Z",
     "start_time": "2025-06-03T19:50:21.233834Z"
    }
   },
   "cell_type": "code",
   "source": [
    "def export_dataframe_to_csv(dataframe: pd.DataFrame, name: str) -> None:\n",
    "    \"\"\"\n",
    "    Export the given dataframe into a CSV file with the given name.\n",
    "    Parameters:\n",
    "        - dataframe (pd.DataFrame): The dataframe to be exported.\n",
    "        - name (str): The name of the CSV file.\n",
    "    Returns:\n",
    "        - None: Show the successful message with the exported location when the operation succeeds;\n",
    "        otherwise, show an error message.\n",
    "    \"\"\"\n",
    "    data_path = data.get_dataset_path(\"rbs\", \"processed\", name, 1)\n",
    "\n",
    "    try:\n",
    "        dataframe.to_csv(data_path, index = False)\n",
    "        print(\"🎉 Saved data to CSV at: \", data_path)\n",
    "    except Exception as e:\n",
    "        print(f\"❌ Error: {e}\")"
   ],
   "id": "58b1a060fcfcdf69",
   "outputs": [],
   "execution_count": 19
  },
  {
   "metadata": {},
   "cell_type": "markdown",
   "source": "⚓️ Export the clean 🇺🇸 US Presidential Elections by States dataframe. ⤵️",
   "id": "10e630ebe42b39d6"
  },
  {
   "metadata": {
    "ExecuteTime": {
     "end_time": "2025-06-03T19:50:21.271796Z",
     "start_time": "2025-06-03T19:50:21.265929Z"
    }
   },
   "cell_type": "code",
   "source": "export_dataframe_to_csv(clean_states_dataframe, \"clean_us_presidential_elections_by_states\")",
   "id": "f8b1d68b3212562e",
   "outputs": [
    {
     "name": "stdout",
     "output_type": "stream",
     "text": [
      "🎉 Saved data to CSV at:  /../../../../../../Volumes/Workstation/Datasets/Red.Blue.States/processed/clean_us_presidential_elections_by_states.csv\n"
     ]
    }
   ],
   "execution_count": 20
  },
  {
   "metadata": {},
   "cell_type": "markdown",
   "source": "⚓️ Export the 🇺🇸 US Presidential Elections by States and party dataframe. ⤵️",
   "id": "6ce4ccba8d2e1f98"
  },
  {
   "metadata": {
    "ExecuteTime": {
     "end_time": "2025-06-03T19:50:21.313356Z",
     "start_time": "2025-06-03T19:50:21.309022Z"
    }
   },
   "cell_type": "code",
   "source": "export_dataframe_to_csv(state_party_dataframe, \"us_presidential_elections_by_state_and_party\")",
   "id": "c3ccb563b35663ed",
   "outputs": [
    {
     "name": "stdout",
     "output_type": "stream",
     "text": [
      "🎉 Saved data to CSV at:  /../../../../../../Volumes/Workstation//Datasets/Red.Blue.States/processed/us_presidential_elections_by_state_and_party.csv\n"
     ]
    }
   ],
   "execution_count": 21
  },
  {
   "metadata": {},
   "cell_type": "markdown",
   "source": "🎉 Congratulations! The `Data Cleaning` is complete!",
   "id": "d331e5b9f7d88b1b"
  }
 ],
 "metadata": {
  "kernelspec": {
   "display_name": "Python 3",
   "language": "python",
   "name": "python3"
  },
  "language_info": {
   "codemirror_mode": {
    "name": "ipython",
    "version": 2
   },
   "file_extension": ".py",
   "mimetype": "text/x-python",
   "name": "python",
   "nbconvert_exporter": "python",
   "pygments_lexer": "ipython2",
   "version": "2.7.6"
  }
 },
 "nbformat": 4,
 "nbformat_minor": 5
}
