{
 "cells": [
  {
   "metadata": {},
   "cell_type": "markdown",
   "source": [
    "# ⛑️ Exploratory Data Analysis\n",
    "\n",
    "[![Open in Colab](https://colab.research.google.com/assets/colab-badge.svg)](<https://colab.research.google.com/>)"
   ],
   "id": "5488302a7b9a43c0"
  },
  {
   "metadata": {},
   "cell_type": "markdown",
   "source": [
    "# 1. ⚙️ Imports\n",
    "\n",
    "Import the necessary libraries and packages."
   ],
   "id": "4a16bf1c3f1d50c9"
  },
  {
   "metadata": {},
   "cell_type": "code",
   "source": [
    "import pandas as pd\n",
    "from urllib.request import urlopen\n",
    "import json\n",
    "import plotly.express as px\n",
    "\n",
    "# Local Libraries\n",
    "from data import data"
   ],
   "id": "9844ad3653fe3c0b",
   "outputs": [],
   "execution_count": null
  },
  {
   "metadata": {},
   "cell_type": "markdown",
   "source": "# Data",
   "id": "56386a319883e09c"
  },
  {
   "metadata": {},
   "cell_type": "code",
   "source": "state_vs_party_dataframe_path = data.get_dataset_path(\"rbs\", \"processed\", \"us_presidential_elections_by_state_and_party\", 1)",
   "id": "de6cca353f5b3a77",
   "outputs": [],
   "execution_count": null
  },
  {
   "metadata": {},
   "cell_type": "code",
   "source": "state_vs_party_dataframe = pd.read_csv(state_vs_party_dataframe_path)",
   "id": "d83c6f2798a407c1",
   "outputs": [],
   "execution_count": null
  },
  {
   "metadata": {},
   "cell_type": "code",
   "source": "state_vs_party_dataframe.head()",
   "id": "65139dd2a1ebf3da",
   "outputs": [],
   "execution_count": null
  },
  {
   "metadata": {},
   "cell_type": "markdown",
   "source": "# Remove 1st row and rename 1st column to State from Year",
   "id": "4beef9c8119caad8"
  },
  {
   "metadata": {},
   "cell_type": "code",
   "source": [
    "state_vs_party_dataframe = state_vs_party_dataframe.iloc[1:].copy()\n",
    "state_vs_party_dataframe.reset_index(drop = True, inplace = True)\n",
    "state_vs_party_dataframe.head()"
   ],
   "id": "93a981f5f071e6e5",
   "outputs": [],
   "execution_count": null
  },
  {
   "metadata": {},
   "cell_type": "code",
   "source": [
    "state_vs_party_dataframe.rename(\n",
    "    columns = {\n",
    "        \"Year\": \"State\"\n",
    "    },\n",
    "    inplace = True\n",
    ")\n",
    "\n",
    "state_vs_party_dataframe.head()"
   ],
   "id": "b24a1fdba94c3628",
   "outputs": [],
   "execution_count": null
  },
  {
   "metadata": {},
   "cell_type": "code",
   "source": "state_vs_party_dataframe",
   "id": "43e32646fa22daf6",
   "outputs": [],
   "execution_count": null
  },
  {
   "metadata": {},
   "cell_type": "markdown",
   "source": "# Create party map for 1 year",
   "id": "dd9d674518bdf60a"
  },
  {
   "metadata": {},
   "cell_type": "code",
   "source": [
    "with urlopen(\"https://raw.githubusercontent.com/PublicaMundi/MappingAPI/master/data/geojson/us-states.json\") as response:\n",
    "    countries_geojson = json.load(response)\n",
    "\n",
    "countries_fips = {feature[\"properties\"][\"name\"]: feature[\"id\"] for feature in countries_geojson[\"features\"]}"
   ],
   "id": "3d5d94710f8a9de7",
   "outputs": [],
   "execution_count": null
  },
  {
   "metadata": {},
   "cell_type": "code",
   "source": "countries_fips",
   "id": "7cedbc3bcc55086a",
   "outputs": [],
   "execution_count": null
  },
  {
   "metadata": {},
   "cell_type": "code",
   "source": "state_vs_party_dataframe[\"Fips\"] = state_vs_party_dataframe[\"State\"].apply(lambda state: countries_fips[state])",
   "id": "2fbb1e68df77097d",
   "outputs": [],
   "execution_count": null
  },
  {
   "metadata": {},
   "cell_type": "code",
   "source": "state_vs_party_dataframe.head()",
   "id": "52da1444a266af3f",
   "outputs": [],
   "execution_count": null
  },
  {
   "metadata": {},
   "cell_type": "code",
   "source": [
    "map_df = pd.DataFrame({\n",
    "    \"Fips\": state_vs_party_dataframe[\"Fips\"],\n",
    "    \"Party\": state_vs_party_dataframe[\"2024\"]\n",
    "})"
   ],
   "id": "c27245ce68f84032",
   "outputs": [],
   "execution_count": null
  },
  {
   "metadata": {},
   "cell_type": "code",
   "source": "map_df.head()",
   "id": "c06080853ce4b38b",
   "outputs": [],
   "execution_count": null
  },
  {
   "metadata": {},
   "cell_type": "code",
   "source": [
    "party_color_map = {\n",
    "    \"Republican\": \"red\",\n",
    "    \"Democratic\": \"blue\"\n",
    "}"
   ],
   "id": "a09de67f095326da",
   "outputs": [],
   "execution_count": null
  },
  {
   "metadata": {},
   "cell_type": "code",
   "source": [
    "fig = px.choropleth(\n",
    "    map_df,\n",
    "    geojson = countries_geojson,\n",
    "    locations = \"Fips\",\n",
    "    color = \"Party\",\n",
    "    color_discrete_map = party_color_map,\n",
    "    scope = \"usa\"\n",
    ")\n",
    "\n",
    "fig.show()"
   ],
   "id": "5f20d528f7edf3fa",
   "outputs": [],
   "execution_count": null
  },
  {
   "metadata": {},
   "cell_type": "markdown",
   "source": "# All Year In One Map",
   "id": "338b52f873c7743c"
  },
  {
   "metadata": {},
   "cell_type": "code",
   "source": "state_vs_party_long_dataframe = state_vs_party_dataframe.iloc[:, 1:].melt(id_vars = \"Fips\", var_name = \"Year\", value_name = \"Party\")",
   "id": "2533c12df826213d",
   "outputs": [],
   "execution_count": null
  },
  {
   "metadata": {},
   "cell_type": "code",
   "source": [
    "party_color_map = {\n",
    "    \"Republican\": \"red\",\n",
    "    \"Democratic\": \"blue\"\n",
    "}"
   ],
   "id": "cd16f7783c4f7462",
   "outputs": [],
   "execution_count": null
  },
  {
   "metadata": {},
   "cell_type": "code",
   "source": [
    "fig = px.choropleth(\n",
    "    state_vs_party_long_dataframe,\n",
    "    geojson = countries_geojson,\n",
    "    locations = \"Fips\",\n",
    "    color = \"Party\",\n",
    "    color_discrete_map = party_color_map,\n",
    "    scope = \"usa\",\n",
    "    animation_frame = \"Year\",\n",
    "    title = \"US Election Results Over the Years\",\n",
    ")\n",
    "\n",
    "fig.show()"
   ],
   "id": "7083a33676568efa",
   "outputs": [],
   "execution_count": null
  },
  {
   "metadata": {},
   "cell_type": "code",
   "source": [
    "# Count the number of states per party per year\n",
    "party_counts = (\n",
    "    state_vs_party_long_dataframe\n",
    "    .groupby([\"Year\", \"Party\"])\n",
    "    .size()\n",
    "    .reset_index(name=\"Count\")\n",
    ")\n",
    "\n",
    "print(party_counts)\n"
   ],
   "id": "58a01f346a49d5fd",
   "outputs": [],
   "execution_count": null
  },
  {
   "metadata": {},
   "cell_type": "code",
   "source": "type(party_counts)",
   "id": "25af63c45a196ee6",
   "outputs": [],
   "execution_count": null
  },
  {
   "metadata": {},
   "cell_type": "code",
   "source": [
    "import plotly.express as px\n",
    "\n",
    "# Create a faceted bar chart over time\n",
    "fig_counts = px.bar(\n",
    "    party_counts,\n",
    "    x=\"Party\",\n",
    "    y=\"Count\",\n",
    "    color=\"Party\",\n",
    "    color_discrete_map=party_color_map,\n",
    "    animation_frame=\"Year\",\n",
    "    title=\"Number of States Won by Each Party Over the Years\"\n",
    ")\n",
    "fig_counts.show()\n"
   ],
   "id": "23b46900a8dc1ef",
   "outputs": [],
   "execution_count": null
  },
  {
   "metadata": {},
   "cell_type": "code",
   "source": [
    "import plotly.express as px\n",
    "\n",
    "# Group and count number of states won per party per year\n",
    "party_counts = (\n",
    "    state_vs_party_long_dataframe\n",
    "    .groupby([\"Year\", \"Party\"])\n",
    "    .size()\n",
    "    .reset_index(name=\"Count\")\n",
    ")\n",
    "\n",
    "# Convert 'Year' to int if it's not already (ensures correct plotting order)\n",
    "party_counts[\"Year\"] = party_counts[\"Year\"].astype(int)\n",
    "\n",
    "# Create the line chart\n",
    "fig = px.line(\n",
    "    party_counts,\n",
    "    x=\"Year\",\n",
    "    y=\"Count\",\n",
    "    color=\"Party\",\n",
    "    markers=True,\n",
    "    color_discrete_map=party_color_map,\n",
    "    title=\"Number of States Won by Each Party Over the Years\"\n",
    ")\n",
    "\n",
    "# Show the plot\n",
    "fig.show()\n"
   ],
   "id": "19e074660285d148",
   "outputs": [],
   "execution_count": null
  },
  {
   "metadata": {},
   "cell_type": "code",
   "source": [
    "party_counts = (\n",
    "    state_vs_party_long_dataframe\n",
    "    .groupby([\"Party\"])\n",
    "    .size()\n",
    "    .reset_index(name=\"Count\")\n",
    ")\n",
    "\n",
    "party_counts"
   ],
   "id": "7701a2f207cdf067",
   "outputs": [],
   "execution_count": null
  },
  {
   "metadata": {},
   "cell_type": "code",
   "source": [
    "import plotly.express as px\n",
    "\n",
    "# Step 1: Count number of states won by each party per year\n",
    "party_yearly_counts = (\n",
    "    state_vs_party_long_dataframe\n",
    "    .groupby([\"Year\", \"Party\"])\n",
    "    .size()\n",
    "    .reset_index(name=\"Count\")\n",
    ")\n",
    "\n",
    "# Step 2: Calculate average states won by each party across all years\n",
    "party_avg = (\n",
    "    party_yearly_counts\n",
    "    .groupby(\"Party\")[\"Count\"]\n",
    "    .mean()\n",
    "    .reset_index(name=\"AverageCount\")\n",
    ")\n",
    "\n",
    "# Step 3: Create the pie chart\n",
    "fig = px.pie(\n",
    "    party_avg,\n",
    "    names=\"Party\",\n",
    "    values=\"AverageCount\",\n",
    "    color=\"Party\",\n",
    "    color_discrete_map=party_color_map,\n",
    "    title=\"Average Number of States Won Per Year by Each Party\"\n",
    ")\n",
    "\n",
    "fig.show()\n"
   ],
   "id": "466f8e48412c0d77",
   "outputs": [],
   "execution_count": null
  },
  {
   "metadata": {},
   "cell_type": "code",
   "source": "party_avg",
   "id": "4d3cb13d11d9f4f6",
   "outputs": [],
   "execution_count": null
  }
 ],
 "metadata": {
  "kernelspec": {
   "display_name": "Python 3",
   "language": "python",
   "name": "python3"
  },
  "language_info": {
   "codemirror_mode": {
    "name": "ipython",
    "version": 2
   },
   "file_extension": ".py",
   "mimetype": "text/x-python",
   "name": "python",
   "nbconvert_exporter": "python",
   "pygments_lexer": "ipython2",
   "version": "2.7.6"
  }
 },
 "nbformat": 4,
 "nbformat_minor": 5
}
