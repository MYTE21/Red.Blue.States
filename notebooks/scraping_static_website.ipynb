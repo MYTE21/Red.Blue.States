{
 "cells": [
  {
   "metadata": {},
   "cell_type": "markdown",
   "source": [
    "# 🗿 Scraping Static Website\n",
    "\n",
    "[![Open in Colab](https://colab.research.google.com/assets/colab-badge.svg)](<https://colab.research.google.com/github/MYTE21/Red.Blue.States/blob/okidogi/notebooks/scraping_static_website.ipynb>)\n",
    "\n",
    "Scraping a static Wikipedia page [🔗 Red states and blue states](https://en.wikipedia.org/wiki/Red_states_and_blue_states),\n",
    "to collect information about presidential elections by states since 1972.\n",
    "\n",
    "* **Wikipedia Page Link:** [🔗 Red states and blue states](https://en.wikipedia.org/wiki/Red_states_and_blue_states).\n",
    "* **Scraped Table Link:** [🔗 Table of presidential elections by states since 1972](https://en.wikipedia.org/wiki/Red_states_and_blue_states#:~:text=suburbs%20were%20divided.-,Table%20of%20presidential%20elections%20by%20states%20since%201972,-%5Bedit%5D).\n",
    "\n"
   ],
   "id": "15e0528a4bb6cde6"
  },
  {
   "metadata": {},
   "cell_type": "markdown",
   "source": [
    "# 1. ⚙️ Imports\n",
    "\n",
    "Import the necessary libraries and packages."
   ],
   "id": "c76d7dff8caf1c84"
  },
  {
   "cell_type": "code",
   "id": "initial_id",
   "metadata": {
    "collapsed": true,
    "ExecuteTime": {
     "end_time": "2025-06-01T15:22:01.001960Z",
     "start_time": "2025-06-01T15:22:00.639822Z"
    }
   },
   "source": [
    "import requests\n",
    "from bs4 import BeautifulSoup\n",
    "import pandas as pd\n",
    "\n",
    "# Local Libraries\n",
    "from data import data"
   ],
   "outputs": [],
   "execution_count": 1
  },
  {
   "metadata": {},
   "cell_type": "markdown",
   "source": [
    "# 2. 📁 Data\n",
    "\n",
    "Rendering the webpage and the expected table and storing it in a predefined place."
   ],
   "id": "bce66dd6397f243d"
  },
  {
   "metadata": {},
   "cell_type": "markdown",
   "source": "## 2.1. 📜 Getting the Webpage",
   "id": "5fc194fb287241c1"
  },
  {
   "metadata": {
    "ExecuteTime": {
     "end_time": "2025-06-01T15:22:01.533942Z",
     "start_time": "2025-06-01T15:22:01.065989Z"
    }
   },
   "cell_type": "code",
   "source": [
    "# Define the URL.\n",
    "url = data.get_dataset_path(\"rbs\", \"urls\", \"red_blue_states_url\", 1)\n",
    "\n",
    "# Send an HTTP GET request to the URL.\n",
    "response = requests.get(url)\n",
    "\n",
    "# Parse the HTML content of the page using the 'lxml' parser.\n",
    "webpage = BeautifulSoup(response.text, \"lxml\")\n",
    "\n",
    "print(\"Title of the web page: \", webpage.title.string)"
   ],
   "id": "e34b1f18ecb8ab72",
   "outputs": [
    {
     "name": "stdout",
     "output_type": "stream",
     "text": [
      "Title of the web page:  Red states and blue states - Wikipedia\n"
     ]
    }
   ],
   "execution_count": 2
  },
  {
   "metadata": {},
   "cell_type": "markdown",
   "source": "## 2.2. ♟️ Getting the Table",
   "id": "b56859d31e8f6d07"
  },
  {
   "metadata": {
    "ExecuteTime": {
     "end_time": "2025-06-01T15:22:01.591794Z",
     "start_time": "2025-06-01T15:22:01.587528Z"
    }
   },
   "cell_type": "code",
   "source": [
    "tables = webpage.find_all(name=\"table\", attrs={\"class\": \"wikitable\"})\n",
    "\n",
    "print(\"Number of tables where class name is 'wikitable': \", len(tables))"
   ],
   "id": "aa72636e8341860c",
   "outputs": [
    {
     "name": "stdout",
     "output_type": "stream",
     "text": [
      "Number of tables where class name is 'wikitable':  1\n"
     ]
    }
   ],
   "execution_count": 3
  },
  {
   "metadata": {},
   "cell_type": "markdown",
   "source": "⚓️ There is only one table with the class name 'wikitable,' and this is our targeted table. ⤵️",
   "id": "2ca1b7359a3ddf0b"
  },
  {
   "metadata": {
    "ExecuteTime": {
     "end_time": "2025-06-01T15:22:01.653248Z",
     "start_time": "2025-06-01T15:22:01.649235Z"
    }
   },
   "cell_type": "code",
   "source": [
    "table = tables[0]\n",
    "\n",
    "print(\n",
    "    \"The 'table' contains the full Presidential Elections table with HTML tags. \\n\"\n",
    "    \"Let's see the first 20 elements contained in that table: \\n\"\n",
    ")\n",
    "\n",
    "list(table.stripped_strings)[:20]"
   ],
   "id": "8b289acfc516c43b",
   "outputs": [
    {
     "name": "stdout",
     "output_type": "stream",
     "text": [
      "The 'table' contains the full Presidential Elections table with HTML tags. \n",
      "Let's see the first 20 elements contained in that table: \n",
      "\n"
     ]
    },
    {
     "data": {
      "text/plain": [
       "['Year',\n",
       " '1972',\n",
       " '1976',\n",
       " '1980',\n",
       " '1984',\n",
       " '1988',\n",
       " '1992',\n",
       " '1996',\n",
       " '2000',\n",
       " '2004',\n",
       " '2008',\n",
       " '2012',\n",
       " '2016',\n",
       " '2020',\n",
       " '2024',\n",
       " 'Democratic',\n",
       " 'Republican',\n",
       " '(lighter shading indicates win ≤5%)',\n",
       " 'Winner received plurality of the vote but did not receive an outright majority of the popular vote',\n",
       " 'Winner']"
      ]
     },
     "execution_count": 4,
     "metadata": {},
     "output_type": "execute_result"
    }
   ],
   "execution_count": 4
  },
  {
   "metadata": {},
   "cell_type": "markdown",
   "source": "⚓️ We can see that we find our desired table. ⤴️",
   "id": "ac22906f5437b10c"
  },
  {
   "metadata": {},
   "cell_type": "markdown",
   "source": "### 2.2.1. 🧢 Header of Table",
   "id": "dd650fdfe0165e1a"
  },
  {
   "metadata": {},
   "cell_type": "markdown",
   "source": "⚓️ Let's get the column names. ⤵️",
   "id": "5b4da7f9d2acd4e6"
  },
  {
   "metadata": {
    "ExecuteTime": {
     "end_time": "2025-06-01T15:22:01.725781Z",
     "start_time": "2025-06-01T15:22:01.723541Z"
    }
   },
   "cell_type": "code",
   "source": [
    "headers = table.find_all(name=\"th\")\n",
    "\n",
    "print(\"Total number of columns of the table: \", len(headers))"
   ],
   "id": "7bd4a54a76c33d99",
   "outputs": [
    {
     "name": "stdout",
     "output_type": "stream",
     "text": [
      "Total number of columns of the table:  16\n"
     ]
    }
   ],
   "execution_count": 5
  },
  {
   "metadata": {
    "ExecuteTime": {
     "end_time": "2025-06-01T15:22:01.797306Z",
     "start_time": "2025-06-01T15:22:01.795246Z"
    }
   },
   "cell_type": "code",
   "source": "print(\"Let's check the last column: \", \" \".join(list(headers[-1].stripped_strings)))",
   "id": "26e1af99136b52f",
   "outputs": [
    {
     "name": "stdout",
     "output_type": "stream",
     "text": [
      "Let's check the last column:  Democratic Republican (lighter shading indicates win ≤5%) Winner received plurality of the vote but did not receive an outright majority of the popular vote Winner did not receive a plurality of the vote and lost the popular vote\n"
     ]
    }
   ],
   "execution_count": 6
  },
  {
   "metadata": {},
   "cell_type": "markdown",
   "source": "⚓️ The last column has some instructions. We will ignore this column for now. ⤵️",
   "id": "38552d2028b00a08"
  },
  {
   "metadata": {
    "ExecuteTime": {
     "end_time": "2025-06-01T15:22:01.871170Z",
     "start_time": "2025-06-01T15:22:01.868474Z"
    }
   },
   "cell_type": "code",
   "source": [
    "columns = [column.text.strip() for column in headers[:-1]]\n",
    "\n",
    "print(\"Table columns are: \\n\")\n",
    "columns"
   ],
   "id": "5fe8bf779fc91e63",
   "outputs": [
    {
     "name": "stdout",
     "output_type": "stream",
     "text": [
      "Table columns are: \n",
      "\n"
     ]
    },
    {
     "data": {
      "text/plain": [
       "['Year',\n",
       " '1972',\n",
       " '1976',\n",
       " '1980',\n",
       " '1984',\n",
       " '1988',\n",
       " '1992',\n",
       " '1996',\n",
       " '2000',\n",
       " '2004',\n",
       " '2008',\n",
       " '2012',\n",
       " '2016',\n",
       " '2020',\n",
       " '2024']"
      ]
     },
     "execution_count": 7,
     "metadata": {},
     "output_type": "execute_result"
    }
   ],
   "execution_count": 7
  },
  {
   "metadata": {},
   "cell_type": "markdown",
   "source": "### 2.2.2. 🇺🇸 US Presidential Elections by States",
   "id": "3518672fbc35d47"
  },
  {
   "metadata": {},
   "cell_type": "markdown",
   "source": "#### 2.2.2.1. 🐬 Body of Table",
   "id": "cc8e1d09191b0ec4"
  },
  {
   "metadata": {},
   "cell_type": "markdown",
   "source": [
    "As the first row is a column row, the 2nd to 4th rows contain helper information.\n",
    "We will take from the 5th to the last row. ⤵️"
   ],
   "id": "75977cb220f7297a"
  },
  {
   "metadata": {
    "ExecuteTime": {
     "end_time": "2025-06-01T15:22:01.951947Z",
     "start_time": "2025-06-01T15:22:01.949778Z"
    }
   },
   "cell_type": "code",
   "source": [
    "body = table.find_all(name=\"tr\")"
   ],
   "id": "20b79dd38647412f",
   "outputs": [],
   "execution_count": 8
  },
  {
   "metadata": {
    "ExecuteTime": {
     "end_time": "2025-06-01T15:22:02.032019Z",
     "start_time": "2025-06-01T15:22:02.029849Z"
    }
   },
   "cell_type": "code",
   "source": [
    "print(\"The first row of the table: \", \" \".join(list(body[4].stripped_strings)))\n",
    "\n",
    "print(\"...\\nThe last row of the table: \", \" \".join(list(body[-1].stripped_strings)))"
   ],
   "id": "3225db12c3b56fa5",
   "outputs": [
    {
     "name": "stdout",
     "output_type": "stream",
     "text": [
      "The first row of the table:  National popular vote Nixon Carter Reagan Reagan Bush Clinton Clinton Gore Bush Obama Obama Clinton Biden Trump\n",
      "...\n",
      "The last row of the table:  Wyoming Nixon Ford Reagan Reagan Bush Bush Dole Bush Bush McCain Romney Trump Trump Trump\n"
     ]
    }
   ],
   "execution_count": 9
  },
  {
   "metadata": {
    "ExecuteTime": {
     "end_time": "2025-06-01T15:22:02.114356Z",
     "start_time": "2025-06-01T15:22:02.111058Z"
    }
   },
   "cell_type": "code",
   "source": [
    "state_contents = []\n",
    "\n",
    "for row_id in range(4, len(body)):\n",
    "    row_data = [\n",
    "        data.text.replace(\"\\n\", \"\").strip() for data in body[row_id].find_all(\"td\")\n",
    "    ]\n",
    "    state_contents.append(row_data)\n",
    "\n",
    "print(\"View the first row of the state_contents: \", state_contents[0])\n",
    "print(\"...\\nView the last row of the state_contents: \", state_contents[-1])"
   ],
   "id": "42ee9a1123395b68",
   "outputs": [
    {
     "name": "stdout",
     "output_type": "stream",
     "text": [
      "View the first row of the state_contents:  ['National popular vote', 'Nixon', 'Carter', 'Reagan', 'Reagan', 'Bush', 'Clinton', 'Clinton', 'Gore', 'Bush', 'Obama', 'Obama', 'Clinton', 'Biden', 'Trump']\n",
      "...\n",
      "View the last row of the state_contents:  ['Wyoming', 'Nixon', 'Ford', 'Reagan', 'Reagan', 'Bush', 'Bush', 'Dole', 'Bush', 'Bush', 'McCain', 'Romney', 'Trump', 'Trump', 'Trump']\n"
     ]
    }
   ],
   "execution_count": 10
  },
  {
   "metadata": {},
   "cell_type": "markdown",
   "source": [
    "#### 2.2.2.2. 🗂️ Whole State Table\n",
    "\n",
    "Gathering the state whole table."
   ],
   "id": "afb09d958cdb0f03"
  },
  {
   "metadata": {
    "ExecuteTime": {
     "end_time": "2025-06-01T15:22:02.195217Z",
     "start_time": "2025-06-01T15:22:02.192629Z"
    }
   },
   "cell_type": "code",
   "source": [
    "state_dataframe = pd.DataFrame(data=state_contents, columns=columns)"
   ],
   "id": "dc4ca7c98a8671d3",
   "outputs": [],
   "execution_count": 11
  },
  {
   "metadata": {
    "ExecuteTime": {
     "end_time": "2025-06-01T15:22:02.285970Z",
     "start_time": "2025-06-01T15:22:02.279045Z"
    }
   },
   "cell_type": "code",
   "source": [
    "print(\"Presidential elections by states: \\n\")\n",
    "state_dataframe.head()"
   ],
   "id": "a7e60d086a59fd15",
   "outputs": [
    {
     "name": "stdout",
     "output_type": "stream",
     "text": [
      "Presidential elections by states: \n",
      "\n"
     ]
    },
    {
     "data": {
      "text/plain": [
       "                    Year   1972    1976    1980    1984  1988     1992  \\\n",
       "0  National popular vote  Nixon  Carter  Reagan  Reagan  Bush  Clinton   \n",
       "1                Alabama  Nixon  Carter  Reagan  Reagan  Bush     Bush   \n",
       "2                 Alaska  Nixon    Ford  Reagan  Reagan  Bush     Bush   \n",
       "3                Arizona  Nixon    Ford  Reagan  Reagan  Bush     Bush   \n",
       "4               Arkansas  Nixon  Carter  Reagan  Reagan  Bush  Clinton   \n",
       "\n",
       "      1996  2000  2004    2008    2012     2016   2020   2024  \n",
       "0  Clinton  Gore  Bush   Obama   Obama  Clinton  Biden  Trump  \n",
       "1     Dole  Bush  Bush  McCain  Romney    Trump  Trump  Trump  \n",
       "2     Dole  Bush  Bush  McCain  Romney    Trump  Trump  Trump  \n",
       "3  Clinton  Bush  Bush  McCain  Romney    Trump  Biden  Trump  \n",
       "4  Clinton  Bush  Bush  McCain  Romney    Trump  Trump  Trump  "
      ],
      "text/html": [
       "<div>\n",
       "<style scoped>\n",
       "    .dataframe tbody tr th:only-of-type {\n",
       "        vertical-align: middle;\n",
       "    }\n",
       "\n",
       "    .dataframe tbody tr th {\n",
       "        vertical-align: top;\n",
       "    }\n",
       "\n",
       "    .dataframe thead th {\n",
       "        text-align: right;\n",
       "    }\n",
       "</style>\n",
       "<table border=\"1\" class=\"dataframe\">\n",
       "  <thead>\n",
       "    <tr style=\"text-align: right;\">\n",
       "      <th></th>\n",
       "      <th>Year</th>\n",
       "      <th>1972</th>\n",
       "      <th>1976</th>\n",
       "      <th>1980</th>\n",
       "      <th>1984</th>\n",
       "      <th>1988</th>\n",
       "      <th>1992</th>\n",
       "      <th>1996</th>\n",
       "      <th>2000</th>\n",
       "      <th>2004</th>\n",
       "      <th>2008</th>\n",
       "      <th>2012</th>\n",
       "      <th>2016</th>\n",
       "      <th>2020</th>\n",
       "      <th>2024</th>\n",
       "    </tr>\n",
       "  </thead>\n",
       "  <tbody>\n",
       "    <tr>\n",
       "      <th>0</th>\n",
       "      <td>National popular vote</td>\n",
       "      <td>Nixon</td>\n",
       "      <td>Carter</td>\n",
       "      <td>Reagan</td>\n",
       "      <td>Reagan</td>\n",
       "      <td>Bush</td>\n",
       "      <td>Clinton</td>\n",
       "      <td>Clinton</td>\n",
       "      <td>Gore</td>\n",
       "      <td>Bush</td>\n",
       "      <td>Obama</td>\n",
       "      <td>Obama</td>\n",
       "      <td>Clinton</td>\n",
       "      <td>Biden</td>\n",
       "      <td>Trump</td>\n",
       "    </tr>\n",
       "    <tr>\n",
       "      <th>1</th>\n",
       "      <td>Alabama</td>\n",
       "      <td>Nixon</td>\n",
       "      <td>Carter</td>\n",
       "      <td>Reagan</td>\n",
       "      <td>Reagan</td>\n",
       "      <td>Bush</td>\n",
       "      <td>Bush</td>\n",
       "      <td>Dole</td>\n",
       "      <td>Bush</td>\n",
       "      <td>Bush</td>\n",
       "      <td>McCain</td>\n",
       "      <td>Romney</td>\n",
       "      <td>Trump</td>\n",
       "      <td>Trump</td>\n",
       "      <td>Trump</td>\n",
       "    </tr>\n",
       "    <tr>\n",
       "      <th>2</th>\n",
       "      <td>Alaska</td>\n",
       "      <td>Nixon</td>\n",
       "      <td>Ford</td>\n",
       "      <td>Reagan</td>\n",
       "      <td>Reagan</td>\n",
       "      <td>Bush</td>\n",
       "      <td>Bush</td>\n",
       "      <td>Dole</td>\n",
       "      <td>Bush</td>\n",
       "      <td>Bush</td>\n",
       "      <td>McCain</td>\n",
       "      <td>Romney</td>\n",
       "      <td>Trump</td>\n",
       "      <td>Trump</td>\n",
       "      <td>Trump</td>\n",
       "    </tr>\n",
       "    <tr>\n",
       "      <th>3</th>\n",
       "      <td>Arizona</td>\n",
       "      <td>Nixon</td>\n",
       "      <td>Ford</td>\n",
       "      <td>Reagan</td>\n",
       "      <td>Reagan</td>\n",
       "      <td>Bush</td>\n",
       "      <td>Bush</td>\n",
       "      <td>Clinton</td>\n",
       "      <td>Bush</td>\n",
       "      <td>Bush</td>\n",
       "      <td>McCain</td>\n",
       "      <td>Romney</td>\n",
       "      <td>Trump</td>\n",
       "      <td>Biden</td>\n",
       "      <td>Trump</td>\n",
       "    </tr>\n",
       "    <tr>\n",
       "      <th>4</th>\n",
       "      <td>Arkansas</td>\n",
       "      <td>Nixon</td>\n",
       "      <td>Carter</td>\n",
       "      <td>Reagan</td>\n",
       "      <td>Reagan</td>\n",
       "      <td>Bush</td>\n",
       "      <td>Clinton</td>\n",
       "      <td>Clinton</td>\n",
       "      <td>Bush</td>\n",
       "      <td>Bush</td>\n",
       "      <td>McCain</td>\n",
       "      <td>Romney</td>\n",
       "      <td>Trump</td>\n",
       "      <td>Trump</td>\n",
       "      <td>Trump</td>\n",
       "    </tr>\n",
       "  </tbody>\n",
       "</table>\n",
       "</div>"
      ]
     },
     "execution_count": 12,
     "metadata": {},
     "output_type": "execute_result"
    }
   ],
   "execution_count": 12
  },
  {
   "metadata": {
    "ExecuteTime": {
     "end_time": "2025-06-01T15:22:02.393127Z",
     "start_time": "2025-06-01T15:22:02.390329Z"
    }
   },
   "cell_type": "code",
   "source": [
    "print(\"Shape of the state_dataframe: \", state_dataframe.shape)\n",
    "print(\"\\t - Total rows: \", state_dataframe.shape[0])\n",
    "print(\"\\t - Total columns: \", state_dataframe.shape[1])"
   ],
   "id": "3577b170d99ca884",
   "outputs": [
    {
     "name": "stdout",
     "output_type": "stream",
     "text": [
      "Shape of the state_dataframe:  (55, 15)\n",
      "\t - Total rows:  55\n",
      "\t - Total columns:  15\n"
     ]
    }
   ],
   "execution_count": 13
  },
  {
   "metadata": {},
   "cell_type": "markdown",
   "source": "### 2.2.3. 🤴🏻US Presidential Elections Candidate",
   "id": "f9c80d7efb93a28c"
  },
  {
   "metadata": {},
   "cell_type": "markdown",
   "source": "⚓️ As for the US presidential election candidates' data on the 2nd and 3rd rows, we will only consider those. ⤵️",
   "id": "b4295e02e4d2d462"
  },
  {
   "metadata": {
    "ExecuteTime": {
     "end_time": "2025-06-01T15:22:02.576895Z",
     "start_time": "2025-06-01T15:22:02.574846Z"
    }
   },
   "cell_type": "code",
   "source": [
    "body = table.find_all(name=\"tr\")"
   ],
   "id": "c7675ba3f98971ad",
   "outputs": [],
   "execution_count": 14
  },
  {
   "metadata": {
    "ExecuteTime": {
     "end_time": "2025-06-01T15:22:02.668378Z",
     "start_time": "2025-06-01T15:22:02.665562Z"
    }
   },
   "cell_type": "code",
   "source": [
    "candidate_contents = []\n",
    "\n",
    "for row_id in range(2, 4):\n",
    "    row_data = [\n",
    "        data.text.replace(\"\\n\", \"\").strip() for data in body[row_id].find_all(\"td\")\n",
    "    ]\n",
    "    candidate_contents.append({column: data for column, data in zip(columns, row_data)})\n",
    "\n",
    "print(\"View the first row of the state_contents: \", candidate_contents[0])\n",
    "print(\"\\nView the second row of the state_contents: \", candidate_contents[-1])"
   ],
   "id": "6c7bc09492a60c54",
   "outputs": [
    {
     "name": "stdout",
     "output_type": "stream",
     "text": [
      "View the first row of the state_contents:  {'Year': 'Democratic candidate', '1972': 'George McGovern', '1976': 'Jimmy Carter', '1980': 'Jimmy Carter', '1984': 'Walter Mondale', '1988': 'Michael Dukakis', '1992': 'Bill Clinton', '1996': 'Bill Clinton', '2000': 'Al Gore', '2004': 'John Kerry', '2008': 'Barack Obama', '2012': 'Barack Obama', '2016': 'Hillary Clinton', '2020': 'Joe Biden', '2024': 'Kamala Harris'}\n",
      "\n",
      "View the second row of the state_contents:  {'Year': 'Republican candidate', '1972': 'Richard Nixon', '1976': 'Gerald Ford', '1980': 'Ronald Reagan', '1984': 'Ronald Reagan', '1988': 'George H. W. Bush', '1992': 'George H. W. Bush', '1996': 'Bob Dole', '2000': 'George W. Bush', '2004': 'George W. Bush', '2008': 'John McCain', '2012': 'Mitt Romney', '2016': 'Donald Trump', '2020': 'Donald Trump', '2024': 'Donald Trump'}\n"
     ]
    }
   ],
   "execution_count": 15
  },
  {
   "metadata": {},
   "cell_type": "markdown",
   "source": [
    "#### 2.2.2.2. 🗂️ Whole Candidate Table\n",
    "\n",
    "Gathering the candidate whole table."
   ],
   "id": "5cbb981823a0f600"
  },
  {
   "metadata": {
    "ExecuteTime": {
     "end_time": "2025-06-01T15:22:02.763187Z",
     "start_time": "2025-06-01T15:22:02.760936Z"
    }
   },
   "cell_type": "code",
   "source": [
    "candidate_dataframe = pd.DataFrame(data=candidate_contents, columns=columns)"
   ],
   "id": "a85b0c7d2770c47d",
   "outputs": [],
   "execution_count": 16
  },
  {
   "metadata": {
    "ExecuteTime": {
     "end_time": "2025-06-01T15:22:02.892312Z",
     "start_time": "2025-06-01T15:22:02.887632Z"
    }
   },
   "cell_type": "code",
   "source": [
    "print(\"Candidates of presidential elections:: \\n\")\n",
    "candidate_dataframe.head()"
   ],
   "id": "661312377bbb8909",
   "outputs": [
    {
     "name": "stdout",
     "output_type": "stream",
     "text": [
      "Candidates of presidential elections:: \n",
      "\n"
     ]
    },
    {
     "data": {
      "text/plain": [
       "                   Year             1972          1976           1980  \\\n",
       "0  Democratic candidate  George McGovern  Jimmy Carter   Jimmy Carter   \n",
       "1  Republican candidate    Richard Nixon   Gerald Ford  Ronald Reagan   \n",
       "\n",
       "             1984               1988               1992          1996  \\\n",
       "0  Walter Mondale    Michael Dukakis       Bill Clinton  Bill Clinton   \n",
       "1   Ronald Reagan  George H. W. Bush  George H. W. Bush      Bob Dole   \n",
       "\n",
       "             2000            2004          2008          2012  \\\n",
       "0         Al Gore      John Kerry  Barack Obama  Barack Obama   \n",
       "1  George W. Bush  George W. Bush   John McCain   Mitt Romney   \n",
       "\n",
       "              2016          2020           2024  \n",
       "0  Hillary Clinton     Joe Biden  Kamala Harris  \n",
       "1     Donald Trump  Donald Trump   Donald Trump  "
      ],
      "text/html": [
       "<div>\n",
       "<style scoped>\n",
       "    .dataframe tbody tr th:only-of-type {\n",
       "        vertical-align: middle;\n",
       "    }\n",
       "\n",
       "    .dataframe tbody tr th {\n",
       "        vertical-align: top;\n",
       "    }\n",
       "\n",
       "    .dataframe thead th {\n",
       "        text-align: right;\n",
       "    }\n",
       "</style>\n",
       "<table border=\"1\" class=\"dataframe\">\n",
       "  <thead>\n",
       "    <tr style=\"text-align: right;\">\n",
       "      <th></th>\n",
       "      <th>Year</th>\n",
       "      <th>1972</th>\n",
       "      <th>1976</th>\n",
       "      <th>1980</th>\n",
       "      <th>1984</th>\n",
       "      <th>1988</th>\n",
       "      <th>1992</th>\n",
       "      <th>1996</th>\n",
       "      <th>2000</th>\n",
       "      <th>2004</th>\n",
       "      <th>2008</th>\n",
       "      <th>2012</th>\n",
       "      <th>2016</th>\n",
       "      <th>2020</th>\n",
       "      <th>2024</th>\n",
       "    </tr>\n",
       "  </thead>\n",
       "  <tbody>\n",
       "    <tr>\n",
       "      <th>0</th>\n",
       "      <td>Democratic candidate</td>\n",
       "      <td>George McGovern</td>\n",
       "      <td>Jimmy Carter</td>\n",
       "      <td>Jimmy Carter</td>\n",
       "      <td>Walter Mondale</td>\n",
       "      <td>Michael Dukakis</td>\n",
       "      <td>Bill Clinton</td>\n",
       "      <td>Bill Clinton</td>\n",
       "      <td>Al Gore</td>\n",
       "      <td>John Kerry</td>\n",
       "      <td>Barack Obama</td>\n",
       "      <td>Barack Obama</td>\n",
       "      <td>Hillary Clinton</td>\n",
       "      <td>Joe Biden</td>\n",
       "      <td>Kamala Harris</td>\n",
       "    </tr>\n",
       "    <tr>\n",
       "      <th>1</th>\n",
       "      <td>Republican candidate</td>\n",
       "      <td>Richard Nixon</td>\n",
       "      <td>Gerald Ford</td>\n",
       "      <td>Ronald Reagan</td>\n",
       "      <td>Ronald Reagan</td>\n",
       "      <td>George H. W. Bush</td>\n",
       "      <td>George H. W. Bush</td>\n",
       "      <td>Bob Dole</td>\n",
       "      <td>George W. Bush</td>\n",
       "      <td>George W. Bush</td>\n",
       "      <td>John McCain</td>\n",
       "      <td>Mitt Romney</td>\n",
       "      <td>Donald Trump</td>\n",
       "      <td>Donald Trump</td>\n",
       "      <td>Donald Trump</td>\n",
       "    </tr>\n",
       "  </tbody>\n",
       "</table>\n",
       "</div>"
      ]
     },
     "execution_count": 17,
     "metadata": {},
     "output_type": "execute_result"
    }
   ],
   "execution_count": 17
  },
  {
   "metadata": {},
   "cell_type": "markdown",
   "source": "# 3. 💣 Export the DataFrame",
   "id": "e031cd36df91f9d4"
  },
  {
   "metadata": {},
   "cell_type": "markdown",
   "source": "⚓️ Create a reusable function to export a dataframe into a CSV file. ⤵️",
   "id": "5b1bfa40659e356c"
  },
  {
   "metadata": {
    "ExecuteTime": {
     "end_time": "2025-06-01T15:22:03.066791Z",
     "start_time": "2025-06-01T15:22:03.064392Z"
    }
   },
   "cell_type": "code",
   "source": [
    "def export_dataframe_to_csv(dataframe: pd.DataFrame, name: str) -> None:\n",
    "    \"\"\"\n",
    "    Export the given dataframe into a CSV file with the given name.\n",
    "    Parameters:\n",
    "        - dataframe (pd.DataFrame): The dataframe to be exported.\n",
    "        - name (str): The name of the CSV file.\n",
    "    Returns:\n",
    "        - None: Show the successful message with the exported location when the operation succeeds;\n",
    "        otherwise, show an error message.\n",
    "    \"\"\"\n",
    "    data_path = data.get_dataset_path(\"rbs\", \"raw\", name, 1)\n",
    "\n",
    "    try:\n",
    "        dataframe.to_csv(data_path, index = False)\n",
    "        print(\"🎉 Saved data to CSV at: \", data_path)\n",
    "    except Exception as e:\n",
    "        print(f\"❌ Error: {e}\")"
   ],
   "id": "139abea4413af1ec",
   "outputs": [],
   "execution_count": 18
  },
  {
   "metadata": {},
   "cell_type": "markdown",
   "source": "⚓️ Export the 🇺🇸 US Presidential Elections by States dataframe. ⤵️",
   "id": "badcd7a6d3255a6"
  },
  {
   "metadata": {
    "ExecuteTime": {
     "end_time": "2025-06-01T15:22:03.176210Z",
     "start_time": "2025-06-01T15:22:03.163497Z"
    }
   },
   "cell_type": "code",
   "source": "export_dataframe_to_csv(state_dataframe, \"us_presidential_elections_by_states\")",
   "id": "a8197ead6b74c7a7",
   "outputs": [
    {
     "name": "stdout",
     "output_type": "stream",
     "text": [
      "🎉 Saved data to CSV at:  /../../../../../../Volumes/Workstation/Datasets/Red.Blue.States/raw/us_presidential_elections_by_states.csv\n"
     ]
    }
   ],
   "execution_count": 19
  },
  {
   "metadata": {},
   "cell_type": "markdown",
   "source": "⚓️ Export the 🇺🇸 US Presidential Elections Candidate dataframe. ⤵️",
   "id": "c2b44fbec9d19d39"
  },
  {
   "metadata": {
    "ExecuteTime": {
     "end_time": "2025-06-01T15:22:03.338176Z",
     "start_time": "2025-06-01T15:22:03.332096Z"
    }
   },
   "cell_type": "code",
   "source": "export_dataframe_to_csv(candidate_dataframe, \"us_presidential_elections_candidate\")",
   "id": "9ef566ab7ef23340",
   "outputs": [
    {
     "name": "stdout",
     "output_type": "stream",
     "text": [
      "🎉 Saved data to CSV at:  /../../../../../../Volumes/Workstation/Datasets/Red.Blue.States/raw/us_presidential_elections_candidate.csv\n"
     ]
    }
   ],
   "execution_count": 20
  },
  {
   "metadata": {},
   "cell_type": "markdown",
   "source": "🎉 Congratulations! The `Scraping Static Website` is complete!",
   "id": "1af2dd2ea402f4ba"
  }
 ],
 "metadata": {
  "kernelspec": {
   "display_name": "Python 3",
   "language": "python",
   "name": "python3"
  },
  "language_info": {
   "codemirror_mode": {
    "name": "ipython",
    "version": 2
   },
   "file_extension": ".py",
   "mimetype": "text/x-python",
   "name": "python",
   "nbconvert_exporter": "python",
   "pygments_lexer": "ipython2",
   "version": "2.7.6"
  }
 },
 "nbformat": 4,
 "nbformat_minor": 5
}
